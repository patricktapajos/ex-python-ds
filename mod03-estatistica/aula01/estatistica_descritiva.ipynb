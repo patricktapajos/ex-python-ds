{
 "cells": [
  {
   "cell_type": "code",
   "execution_count": 2,
   "metadata": {},
   "outputs": [],
   "source": [
    "# Bibliotecas necessárias\n",
    "import numpy as np\n",
    "import statistics as st\n",
    "import seaborn as sns\n",
    "from scipy import stats\n",
    "from collections import Counter"
   ]
  },
  {
   "cell_type": "code",
   "execution_count": 3,
   "metadata": {},
   "outputs": [],
   "source": [
    "# Criação das listas das turmas que utilizaremos como exemplos\n",
    "turma_a = [4, 5, 5, 6, 6, 7, 7, 8]\n",
    "turma_b = [1, 2, 4, 6, 6, 9, 10, 10]\n",
    "turma_c = [0, 6, 7, 7, 7, 7.5, 7.5]"
   ]
  },
  {
   "cell_type": "code",
   "execution_count": 10,
   "metadata": {},
   "outputs": [],
   "source": [
    "# Coeficiente de Variação\n",
    "def cv(n):\n",
    "    num = 100*st.stdev(n)/st.mean(n)\n",
    "    return round(num,2)"
   ]
  },
  {
   "cell_type": "markdown",
   "metadata": {},
   "source": [
    "a) Média, mediana, moda, desvio-padrão e coeficiente de variação para cada turma"
   ]
  },
  {
   "cell_type": "code",
   "execution_count": 18,
   "metadata": {},
   "outputs": [
    {
     "name": "stdout",
     "output_type": "stream",
     "text": [
      "Turma A:\n",
      "- Média aritmética: 6\n",
      "- Mediana 6.0\n",
      "- Moda: [5, 6, 7]\n",
      "- Desvio-padrão amostral: 1.3093073414159542\n",
      "- Coeficiente de Variação (%): 21.82\n"
     ]
    }
   ],
   "source": [
    "# Média, mediana, moda, desvio-padrão e coeficiente de variação da Turma A \n",
    "print(\"Turma A:\")\n",
    "print(\"- Média aritmética:\", st.mean(turma_a))\n",
    "print(\"- Mediana\", st.median(turma_a))\n",
    "print(\"- Moda(s):\", st.multimode(turma_a))\n",
    "print(\"- Desvio-padrão amostral:\", st.stdev(turma_a))\n",
    "print(\"- Coeficiente de Variação (%):\",cv(turma_a))"
   ]
  },
  {
   "cell_type": "code",
   "execution_count": 19,
   "metadata": {},
   "outputs": [
    {
     "name": "stdout",
     "output_type": "stream",
     "text": [
      "Turma B:\n",
      "- Média aritmética: 6\n",
      "- Mediana 6.0\n",
      "- Moda(s): [6, 10]\n",
      "- Desvio-padrão amostral: 3.5050983275386565\n",
      "- Coeficiente de Variação (%): 58.42\n"
     ]
    }
   ],
   "source": [
    "# Média, mediana, moda, desvio-padrão e coeficiente de variação da Turma B\n",
    "print(\"Turma B:\")\n",
    "print(\"- Média aritmética:\", st.mean(turma_b))\n",
    "print(\"- Mediana\", st.median(turma_b))\n",
    "print(\"- Moda(s):\", st.multimode(turma_b))\n",
    "print(\"- Desvio-padrão amostral:\", st.stdev(turma_b))\n",
    "print(\"- Coeficiente de Variação (%):\",cv(turma_b))"
   ]
  },
  {
   "cell_type": "code",
   "execution_count": 20,
   "metadata": {},
   "outputs": [
    {
     "name": "stdout",
     "output_type": "stream",
     "text": [
      "Turma C:\n",
      "- Média aritmética: 6.0\n",
      "- Mediana 7\n",
      "- Moda(s): [7]\n",
      "- Desvio-padrão amostral: 2.692582403567252\n",
      "- Coeficiente de Variação (%): 44.88\n"
     ]
    }
   ],
   "source": [
    "# Média, mediana, moda, desvio-padrão e coeficiente de variação da Turma c\n",
    "print(\"Turma C:\")\n",
    "print(\"- Média aritmética:\", st.mean(turma_c))\n",
    "print(\"- Mediana\", st.median(turma_c))\n",
    "print(\"- Moda(s):\", st.multimode(turma_c))\n",
    "print(\"- Desvio-padrão amostral:\", st.stdev(turma_c))\n",
    "print(\"- Coeficiente de Variação (%):\",cv(turma_c))"
   ]
  },
  {
   "cell_type": "code",
   "execution_count": 17,
   "metadata": {},
   "outputs": [
    {
     "name": "stdout",
     "output_type": "stream",
     "text": [
      "Turma A:  DescribeResult(nobs=8, minmax=(4, 8), mean=6.0, variance=1.7142857142857142, skewness=0.0, kurtosis=-1.0)\n",
      "Turma B:  DescribeResult(nobs=8, minmax=(1, 10), mean=6.0, variance=12.285714285714286, skewness=-0.14895209195277664, kurtosis=-1.3883180097349919)\n",
      "Turma C:  DescribeResult(nobs=7, minmax=(0.0, 7.5), mean=6.0, variance=7.25, skewness=-1.9019937775739855, kurtosis=1.8428458184700753)\n"
     ]
    }
   ],
   "source": [
    "a = stats.describe(turma_a)\n",
    "b = stats.describe(turma_b)\n",
    "c = stats.describe(turma_c)\n",
    "print(\"Turma A: \",a)\n",
    "print(\"Turma B: \", b)\n",
    "print(\"Turma C: \", c)"
   ]
  },
  {
   "cell_type": "code",
   "execution_count": 21,
   "metadata": {},
   "outputs": [
    {
     "data": {
      "text/plain": [
       "Text(0.5, 1.0, 'Turma A')"
      ]
     },
     "execution_count": 21,
     "metadata": {},
     "output_type": "execute_result"
    },
    {
     "data": {
      "image/png": "[encoded data removed]",
      "text/plain": [
       "<Figure size 432x288 with 1 Axes>"
      ]
     },
     "metadata": {
      "needs_background": "light"
     },
     "output_type": "display_data"
    }
   ],
   "source": [
    "sns.boxplot(turma_a).set_title('Turma A')"
   ]
  },
  {
   "cell_type": "code",
   "execution_count": 22,
   "metadata": {},
   "outputs": [
    {
     "data": {
      "text/plain": [
       "Text(0.5, 1.0, 'Turma B')"
      ]
     },
     "execution_count": 22,
     "metadata": {},
     "output_type": "execute_result"
    },
    {
     "data": {
      "image/png": "[encoded data removed]",
      "text/plain": [
       "<Figure size 432x288 with 1 Axes>"
      ]
     },
     "metadata": {
      "needs_background": "light"
     },
     "output_type": "display_data"
    }
   ],
   "source": [
    "sns.boxplot(turma_b).set_title('Turma B')"
   ]
  },
  {
   "cell_type": "code",
   "execution_count": 23,
   "metadata": {},
   "outputs": [
    {
     "data": {
      "text/plain": [
       "Text(0.5, 1.0, 'Turma C')"
      ]
     },
     "execution_count": 23,
     "metadata": {},
     "output_type": "execute_result"
    },
    {
     "data": {
      "image/png": "[encoded data removed]",
      "text/plain": [
       "<Figure size 432x288 with 1 Axes>"
      ]
     },
     "metadata": {
      "needs_background": "light"
     },
     "output_type": "display_data"
    }
   ],
   "source": [
    "sns.boxplot(turma_c).set_title('Turma C')"
   ]
  },
  {
   "cell_type": "markdown",
   "metadata": {},
   "source": [
    "b) Qual é simétrica?\n",
    "Dados os valores descrição estatística das turmas, a que apresenta simetria é a turma A.\n",
    "A média das modas é 6, tal qual a média artimética e a mediana."
   ]
  },
  {
   "cell_type": "markdown",
   "metadata": {},
   "source": [
    "c) Qual a mais homogênea?\n",
    "Dados os valores do coeficiente de variação, a turma que apresenta mais homogeneidade é a turma A."
   ]
  },
  {
   "cell_type": "markdown",
   "metadata": {},
   "source": [
    "d) Se existe a presença de outliers\n",
    "Dadas as visualizações dos boxesplot, há a presença de outliers nas notas da turma C."
   ]
  },
  {
   "cell_type": "markdown",
   "metadata": {},
   "source": [
    "e) Na sua opinião, qual turma apresentou melhor desempenho? Justifique.\n",
    "Depende do valor da média. Tendo em vista uma média valorada em 6, quem apresentou melhor desempenho foi a turma C, pois tivemos mais notas acima da média, apesar do(s) outlier(s). Porém, dentre as turmas, ela apresenta uma quantidade menor de notas. Logo, dentre as turmas que apresentam a mesma quantidade de notas, o melhor desempenho foi da turma A, dada a homogeneidade em torno da média."
   ]
  }
 ],
 "metadata": {
  "kernelspec": {
   "display_name": "Python 3",
   "language": "python",
   "name": "python3"
  },
  "language_info": {
   "codemirror_mode": {
    "name": "ipython",
    "version": 3
   },
   "file_extension": ".py",
   "mimetype": "text/x-python",
   "name": "python",
   "nbconvert_exporter": "python",
   "pygments_lexer": "ipython3",
   "version": "3.8.3"
  }
 },
 "nbformat": 4,
 "nbformat_minor": 4
}
