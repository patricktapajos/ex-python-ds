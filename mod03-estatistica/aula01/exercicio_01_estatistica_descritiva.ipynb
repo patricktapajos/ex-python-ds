{
 "cells": [
  {
   "cell_type": "markdown",
   "metadata": {},
   "source": [
    "Exercício de Estatística Descritiva"
   ]
  },
  {
   "cell_type": "code",
   "execution_count": 34,
   "metadata": {},
   "outputs": [],
   "source": [
    "# Bibliotecas necessárias\n",
    "import numpy as np\n",
    "import statistics as st\n",
    "import seaborn as sns\n",
    "import matplotlib.pyplot as plt\n",
    "from scipy import stats"
   ]
  },
  {
   "cell_type": "code",
   "execution_count": 37,
   "metadata": {},
   "outputs": [],
   "source": [
    "# Método para calcular o Coeficiente de Variação\n",
    "def cv(n):\n",
    "    num = 100*st.stdev(n)/st.mean(n)\n",
    "    return round(num,2)"
   ]
  },
  {
   "cell_type": "markdown",
   "metadata": {},
   "source": [
    "Os dados a seguir representam os 10 salários anuais mais altos dos jogadores do Paris Saint-Germain (PSG) e Real Madrid (Real) em milhões de euros."
   ]
  },
  {
   "cell_type": "code",
   "execution_count": 3,
   "metadata": {},
   "outputs": [],
   "source": [
    "psg = [37, 23, 18, 16, 14, 14, 13, 12, 10, 9]\n",
    "real = [15, 15, 12, 12, 11, 10, 9, 9, 9, 7]"
   ]
  },
  {
   "cell_type": "markdown",
   "metadata": {},
   "source": [
    "Q1. Qual a simetria dos salários do PSG?"
   ]
  },
  {
   "cell_type": "code",
   "execution_count": 52,
   "metadata": {},
   "outputs": [
    {
     "name": "stdout",
     "output_type": "stream",
     "text": [
      "PSG:\n",
      "- Média aritmética: 16.6\n",
      "- Mediana 14.0\n",
      "- Moda(s): [14]\n",
      "- Desvio-padrão amostral: 8.221921916437786\n",
      "- Coeficiente de Variação (%): 49.53\n",
      "R: Os salários do PSG são assimétricos positivos, possuem mais valores à esquerda do gráfico, e a mediana tem o valor menor que a média.\n"
     ]
    },
    {
     "data": {
      "image/png": "[encoded data removed]",
      "text/plain": [
       "<Figure size 432x288 with 1 Axes>"
      ]
     },
     "metadata": {},
     "output_type": "display_data"
    }
   ],
   "source": [
    "print(\"PSG:\")\n",
    "print(\"- Média aritmética:\", st.mean(psg))\n",
    "print(\"- Mediana\", st.median(psg))\n",
    "print(\"- Moda(s):\", st.multimode(psg))\n",
    "print(\"- Desvio-padrão amostral:\", st.stdev(psg))\n",
    "print(\"- Coeficiente de Variação (%):\",cv(psg))\n",
    "print(\"R: Os salários do PSG são assimétricos positivos, possuem mais valores à esquerda do gráfico, e a mediana tem o valor menor que a média.\")\n",
    "plt.hist(psg)\n",
    "plt.show()"
   ]
  },
  {
   "cell_type": "markdown",
   "metadata": {},
   "source": [
    "Q2. Qual alternativa correta com base no cálculo da média, mediana e moda dos salários do time do Real?"
   ]
  },
  {
   "cell_type": "code",
   "execution_count": 53,
   "metadata": {},
   "outputs": [
    {
     "name": "stdout",
     "output_type": "stream",
     "text": [
      "Real Madrid:\n",
      "- Média aritmética: 10.9\n",
      "- Mediana 10.5\n",
      "- Moda(s): [9]\n",
      "- Desvio-padrão amostral: 2.64365067451978\n",
      "- Coeficiente de Variação (%): 24.25\n",
      "DescribeResult(nobs=10, minmax=(7, 15), mean=10.9, variance=6.988888888888889, skewness=0.3795821868282551, kurtosis=-0.8789432844422094)\n",
      "R: A moda é menor do que a mediana e esta menor do que a média.\n"
     ]
    },
    {
     "data": {
      "image/png": "[encoded data removed]",
      "text/plain": [
       "<Figure size 432x288 with 1 Axes>"
      ]
     },
     "metadata": {},
     "output_type": "display_data"
    }
   ],
   "source": [
    "print(\"Real Madrid:\")\n",
    "print(\"- Média aritmética:\", st.mean(real))\n",
    "print(\"- Mediana\", st.median(real))\n",
    "print(\"- Moda(s):\", st.multimode(real))\n",
    "print(\"- Desvio-padrão amostral:\", st.stdev(real))\n",
    "print(\"- Coeficiente de Variação (%):\",cv(real))\n",
    "print(stats.describe(real))\n",
    "print(\"R: A moda é menor do que a mediana e esta menor do que a média.\")\n",
    "plt.hist(real)\n",
    "plt.show()"
   ]
  },
  {
   "cell_type": "markdown",
   "metadata": {},
   "source": [
    "Q3. Em relação a variabilidade dos salários dos dois times, podemos concluir que:\n",
    "\n",
    "R: Tanto a média quanto o coeficiente de variação são menores no time do Real"
   ]
  },
  {
   "cell_type": "markdown",
   "metadata": {},
   "source": [
    "Q4. Qual a amplitude inter-quartis do time do Real?"
   ]
  },
  {
   "cell_type": "code",
   "execution_count": 57,
   "metadata": {},
   "outputs": [
    {
     "name": "stdout",
     "output_type": "stream",
     "text": [
      "R: Q3 = 12, Q1 = 9, amplitude = 3\n"
     ]
    },
    {
     "data": {
      "image/png": "[encoded data removed]",
      "text/plain": [
       "<Figure size 432x288 with 1 Axes>"
      ]
     },
     "metadata": {},
     "output_type": "display_data"
    }
   ],
   "source": [
    "#AIQ = Q3 - Q1\n",
    "print(\"R: Q3 = 12, Q1 = 9, amplitude = 3\")\n",
    "sns.boxplot(real).set_title('Real Madrid')\n",
    "plt.show()"
   ]
  },
  {
   "cell_type": "markdown",
   "metadata": {},
   "source": [
    "Q5. Em qual(is) distribuição(ões) dos salários podemos considerar a ocorrência de outliers?"
   ]
  },
  {
   "cell_type": "code",
   "execution_count": 56,
   "metadata": {},
   "outputs": [
    {
     "name": "stdout",
     "output_type": "stream",
     "text": [
      "R: PSG\n"
     ]
    },
    {
     "data": {
      "image/png": "[encoded data removed]",
      "text/plain": [
       "<Figure size 432x288 with 1 Axes>"
      ]
     },
     "metadata": {},
     "output_type": "display_data"
    }
   ],
   "source": [
    "print(\"R: PSG\")\n",
    "sns.boxplot(psg).set_title('PSG')\n",
    "plt.show()"
   ]
  },
  {
   "cell_type": "markdown",
   "metadata": {},
   "source": [
    "Q6. Os dados a seguir mostram o desempenho do Real no último campeonato. O primeiro valor é o número de gools e o segundo a frequência: X={(0,5), (1,3), (2,4), (3,3), (4,2), (5,2), (7,1)}. Se X, Y e Z são, respectivamente, a média, a mediana e a moda desta distribuição, então:"
   ]
  },
  {
   "cell_type": "code",
   "execution_count": 60,
   "metadata": {},
   "outputs": [
    {
     "name": "stdout",
     "output_type": "stream",
     "text": [
      "Desempenho - Real Madrid:\n",
      "- Média aritmética (X): 2.25\n",
      "- Mediana (Y): 2.0\n",
      "- Moda(s) (Z): [0]\n",
      "R = Z < Y < X\n"
     ]
    }
   ],
   "source": [
    "desempenho_real = [0,0,0,0,0,1,1,1,2,2,2,2,3,3,3,4,4,5,5,7]\n",
    "\n",
    "print(\"Desempenho - Real Madrid:\")\n",
    "print(\"- Média aritmética (X):\", st.mean(desempenho_real))\n",
    "print(\"- Mediana (Y):\", st.median(desempenho_real))\n",
    "print(\"- Moda(s) (Z):\", st.multimode(desempenho_real))\n",
    "\n",
    "print(\"R = Z < Y < X\")"
   ]
  },
  {
   "cell_type": "markdown",
   "metadata": {},
   "source": [
    "Q8. Uma Empresa possui dois estagiários de TI recebendo salários de R$ 2.500,00 cada um, quatro colaboradores de suporte recebendo salário de R$ 6.000,00 cada um, um coordenador com salário de R$ 10.000,00 e três diretores recebendo 22.000,00 cada um. A média destes salários é:"
   ]
  },
  {
   "cell_type": "code",
   "execution_count": 64,
   "metadata": {},
   "outputs": [
    {
     "name": "stdout",
     "output_type": "stream",
     "text": [
      "A média dos salários é de: 10.5\n"
     ]
    }
   ],
   "source": [
    "# salarios = [2500, 2500, 6000, 6000, 6000, 6000, 10000, 22000, 22000, 22000]\n",
    "salarios = [2.5, 2.5, 6, 6, 6, 6, 10, 22, 22, 22]\n",
    "print(\"A média dos salários é de:\", st.mean(salarios))"
   ]
  },
  {
   "cell_type": "markdown",
   "metadata": {},
   "source": [
    "Q10. Dada as variáveis: Número de atividades (X) = {2, 3, 4, 2, 7, 4, 5, 3, 3, 6} e Carga horária semanal (Y) = {50, 60, 40, 50, 55, 50, 50, 45, 40, 60}, de determina Empresa, responda:"
   ]
  },
  {
   "cell_type": "code",
   "execution_count": 67,
   "metadata": {},
   "outputs": [
    {
     "name": "stdout",
     "output_type": "stream",
     "text": [
      "X - Desvio-padrão: 1.66332999331662\n",
      "X - Coeficiente de Variação (%): 42.65\n",
      "Y - Desvio-padrão: 7.0710678118654755\n",
      "Y - Coeficiente de Variação (%): 14.14\n"
     ]
    }
   ],
   "source": [
    "X = [2,3,4,2,7,4,5,3,3,6]\n",
    "Y = [50,60,40,50,55,50,50,45,40,60]\n",
    "X.sort()\n",
    "Y.sort()\n",
    "print(\"X - Desvio-padrão:\", st.stdev(X))\n",
    "print(\"X - Coeficiente de Variação (%):\",cv(X))\n",
    "\n",
    "print(\"Y - Desvio-padrão:\", st.stdev(Y))\n",
    "print(\"Y - Coeficiente de Variação (%):\",cv(Y))"
   ]
  }
 ],
 "metadata": {
  "kernelspec": {
   "display_name": "Python 3",
   "language": "python",
   "name": "python3"
  },
  "language_info": {
   "codemirror_mode": {
    "name": "ipython",
    "version": 3
   },
   "file_extension": ".py",
   "mimetype": "text/x-python",
   "name": "python",
   "nbconvert_exporter": "python",
   "pygments_lexer": "ipython3",
   "version": "3.8.3"
  }
 },
 "nbformat": 4,
 "nbformat_minor": 4
}
