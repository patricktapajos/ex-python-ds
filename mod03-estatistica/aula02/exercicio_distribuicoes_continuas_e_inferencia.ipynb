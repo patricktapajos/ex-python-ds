{
  "nbformat": 4,
  "nbformat_minor": 0,
  "metadata": {
    "colab": {
      "name": "exercicio_distribuicoes_continuas_e_inferencia",
      "provenance": [],
      "collapsed_sections": [
        "qWJx0M-5zl1k",
        "gQyM4Q-V3gCE",
        "vgDQZ_kNBRwM",
        "ceJlDrWOHdQm",
        "pzBN1OajPzz6",
        "kD8s5LorTqK5",
        "qlsvYKe9XkWU"
      ],
      "authorship_tag": "ABX9TyNUPbd/jRq7vw4BBS80+TdZ",
      "include_colab_link": true
    },
    "kernelspec": {
      "name": "python3",
      "display_name": "Python 3"
    }
  },
  "cells": [
    {
      "cell_type": "markdown",
      "metadata": {
        "id": "view-in-github",
        "colab_type": "text"
      },
      "source": [
        "<a href=\"https://colab.research.google.com/github/patricktapajos/pos-ciencia-dados/blob/master/mod03-estatistica/aula02/exercicio_distribuicoes_continuas_e_inferencia.ipynb\" target=\"_parent\"><img src=\"https://colab.research.google.com/assets/colab-badge.svg\" alt=\"Open In Colab\"/></a>"
      ]
    },
    {
      "cell_type": "code",
      "metadata": {
        "id": "ZJFEbfSEzrXH"
      },
      "source": [
        "from scipy.stats import binom, nbinom, poisson, uniform, expon, norm , t\n",
        "import statistics as st\n",
        "import statsmodels.stats.proportion as prop\n",
        "import numpy as np\n",
        "import matplotlib.pyplot as plt\n",
        "import seaborn as sns\n",
        "from numpy import random"
      ],
      "execution_count": 92,
      "outputs": []
    },
    {
      "cell_type": "markdown",
      "metadata": {
        "id": "qWJx0M-5zl1k"
      },
      "source": [
        "### Q1. Um ponto é escolhido ao acaso no segmento de reta [1,4]. Qual a probabilidade de que o ponto escolhido esteja entre 0,5 e 2,5?"
      ]
    },
    {
      "cell_type": "code",
      "metadata": {
        "id": "-JrmhQAjx_GE",
        "outputId": "44ad5062-238f-4655-c1b9-49fc2f503984",
        "colab": {
          "base_uri": "https://localhost:8080/"
        }
      },
      "source": [
        "#P( 0,5<= x >= 2,5)\n",
        "\n",
        "# A=1\n",
        "# B=4\n",
        "# a = 0.5\n",
        "# b = 2.5\n",
        "# fx = 1/(B-A)\n",
        "# P = fx*(b-a)\n",
        "# OU\n",
        "\n",
        "P = uniform.cdf(2.5, 0.5, 3)\n",
        "print(\"A probabilidade é\", P)"
      ],
      "execution_count": 32,
      "outputs": [
        {
          "output_type": "stream",
          "text": [
            "A probabilidade é 0.6666666666666666\n"
          ],
          "name": "stdout"
        }
      ]
    },
    {
      "cell_type": "markdown",
      "metadata": {
        "id": "gQyM4Q-V3gCE"
      },
      "source": [
        "### Q2. O tempo de vida (em horas) de um transístor é uma variável aleatória T com distribuição exponencial. O tempo médio de vida do transístor é de 500 horas. Qual a probabilidade de o transístor durar entre 300 e 1000 horas?"
      ]
    },
    {
      "cell_type": "code",
      "metadata": {
        "id": "eebSe-2e3h97",
        "outputId": "0add6b81-fbb4-41d0-8b27-1d3918386958",
        "colab": {
          "base_uri": "https://localhost:8080/"
        }
      },
      "source": [
        "# Descobrir pq o lambda é 1/500\n",
        "scale = 500\n",
        "expon.cdf(1000,scale=scale)-expon.cdf(300,scale=scale) "
      ],
      "execution_count": 48,
      "outputs": [
        {
          "output_type": "execute_result",
          "data": {
            "text/plain": [
              "0.4134763528574137"
            ]
          },
          "metadata": {
            "tags": []
          },
          "execution_count": 48
        }
      ]
    },
    {
      "cell_type": "markdown",
      "metadata": {
        "id": "vgDQZ_kNBRwM"
      },
      "source": [
        "### Q3. Se as interrupções no suprimento de energia elétrica ocorrem segundo uma distribuição de Poisson com a média de uma interrupção por mês (quatro semanas). Qual a probabilidade de que entre duas interrupções consecutivas ocorram em um intervalo de menos de uma semana?"
      ]
    },
    {
      "cell_type": "code",
      "metadata": {
        "id": "UnhAAQFM8Zc7",
        "outputId": "7529c6a1-7b8f-4bb8-f817-e1e5644514e3",
        "colab": {
          "base_uri": "https://localhost:8080/"
        }
      },
      "source": [
        "scale = 4\n",
        "round(expon.cdf(1,scale=scale), 4)"
      ],
      "execution_count": 76,
      "outputs": [
        {
          "output_type": "execute_result",
          "data": {
            "text/plain": [
              "0.2212"
            ]
          },
          "metadata": {
            "tags": []
          },
          "execution_count": 76
        }
      ]
    },
    {
      "cell_type": "markdown",
      "metadata": {
        "id": "ceJlDrWOHdQm"
      },
      "source": [
        "### Q4. As notas de uma prova de estatística em uma turma do ensino superior são normalmente distribuídas com média 6,0 e variância 16,0. Qual a probabilidade de um aluno tirar uma nota entre 7,0 e 8,0?"
      ]
    },
    {
      "cell_type": "code",
      "metadata": {
        "id": "5apC-HGBHfu0",
        "outputId": "6abf2d25-2aee-4a22-d5bd-323f88da2d6e",
        "colab": {
          "base_uri": "https://localhost:8080/"
        }
      },
      "source": [
        "media = 6\n",
        "variancia = 16\n",
        "dp = np.sqrt(variancia)\n",
        "norm.cdf(8,6,dp)-norm.cdf(7,6,dp)"
      ],
      "execution_count": 81,
      "outputs": [
        {
          "output_type": "execute_result",
          "data": {
            "text/plain": [
              "0.09275613559108942"
            ]
          },
          "metadata": {
            "tags": []
          },
          "execution_count": 81
        }
      ]
    },
    {
      "cell_type": "markdown",
      "metadata": {
        "id": "pzBN1OajPzz6"
      },
      "source": [
        "### Q5. Uma enchedora automática de garrafas de refrigerante esta regulada para que o volume médio de líquido em cada garrafa seja de 1000 cm3 e o desvio-padrão de 10 cm3. Qual deve ser a medida mínima para um técnico escolher 5% das garrafas que não completaram 1000 cm3?"
      ]
    },
    {
      "cell_type": "code",
      "metadata": {
        "id": "nKCAZ1WZP4Wc",
        "outputId": "a1850065-7145-47ce-89a8-938b3064d1ec",
        "colab": {
          "base_uri": "https://localhost:8080/"
        }
      },
      "source": [
        "norm.ppf(0.05,1000,10)"
      ],
      "execution_count": 82,
      "outputs": [
        {
          "output_type": "execute_result",
          "data": {
            "text/plain": [
              "983.5514637304852"
            ]
          },
          "metadata": {
            "tags": []
          },
          "execution_count": 82
        }
      ]
    },
    {
      "cell_type": "markdown",
      "metadata": {
        "id": "kD8s5LorTqK5"
      },
      "source": [
        "### Q6. Existe vários algoritmos computacionais que permitem gerar números aleatórios (ou, mais apropriadamente, pseudo-aleatórios) no intervalo [0,1], com distribuição uniforme. Considere a geração de 100 números (X1, X2, ...,X100) desta forma. Qual é o valor da média e da variância de Xi?"
      ]
    },
    {
      "cell_type": "code",
      "metadata": {
        "id": "BmcFHR1gTtRA",
        "outputId": "591b46a8-0a90-46f2-d4af-ba46cdca319e",
        "colab": {
          "base_uri": "https://localhost:8080/",
          "height": 385
        }
      },
      "source": [
        "dados = random.uniform(0,1, size=100)\n",
        "sns.distplot(dados, kde=True)\n",
        "plt.title('Distribuição Uniforme')\n",
        "plt.show()\n",
        "\n",
        "\n",
        "print(\"Média: \", round(st.mean(dados), 2))\n",
        "print(\"Variância:\", round(st.variance(dados), 2))\n",
        "print(\"Desvio-padrão:\", round(st.stdev(dados), 2))"
      ],
      "execution_count": 104,
      "outputs": [
        {
          "output_type": "stream",
          "text": [
            "/usr/local/lib/python3.6/dist-packages/seaborn/distributions.py:2551: FutureWarning: `distplot` is a deprecated function and will be removed in a future version. Please adapt your code to use either `displot` (a figure-level function with similar flexibility) or `histplot` (an axes-level function for histograms).\n",
            "  warnings.warn(msg, FutureWarning)\n"
          ],
          "name": "stderr"
        },
        {
          "output_type": "display_data",
          "data": {
            "image/png": "[encoded data removed]",
            "text/plain": [
              "<Figure size 432x288 with 1 Axes>"
            ]
          },
          "metadata": {
            "tags": [],
            "needs_background": "light"
          }
        },
        {
          "output_type": "stream",
          "text": [
            "Média:  0.55\n",
            "Variância: 0.08\n",
            "Desvio-padrão: 0.28\n"
          ],
          "name": "stdout"
        }
      ]
    },
    {
      "cell_type": "markdown",
      "metadata": {
        "id": "qlsvYKe9XkWU"
      },
      "source": [
        "### Q7. Com o objetivo de avaliar a confiabilidade de um novo sistema de transmissão de dados, torna-se necessário verificar a proporção de bits transmitidos com erro em cada lote de 100 Mb. Considere que seja tolerável um erro amostral de máximo de 2% e que em sistemas similares a taxa de erro na transmissão é de 10%. Qual deve ser o tamanho da amostra ao nível de 95%?"
      ]
    },
    {
      "cell_type": "code",
      "metadata": {
        "id": "B4a5VC2GX51L",
        "outputId": "cb38b531-94cc-4357-cb3e-fd323d5027b8",
        "colab": {
          "base_uri": "https://localhost:8080/"
        }
      },
      "source": [
        "z = 0.975\n",
        "taxa_sucesso = 0.9\n",
        "taxa_fracasso = 0.1\n",
        "erro_amostral = 0.02\n",
        "( (norm.ppf(z)**2)*(taxa_sucesso*taxa_fracasso) )/(erro_amostral**2)\n",
        "#ou\n",
        "#(1.96**2*0.1*0.9)/(0.02**2)\n",
        "\n",
        "# Para confirmar, vamos calcular o erro amostral com base neste quantitativo\n",
        "#1.96*np.sqrt(0.1*0.9/864)"
      ],
      "execution_count": 113,
      "outputs": [
        {
          "output_type": "execute_result",
          "data": {
            "text/plain": [
              "864.3282346561782"
            ]
          },
          "metadata": {
            "tags": []
          },
          "execution_count": 113
        }
      ]
    },
    {
      "cell_type": "markdown",
      "metadata": {
        "id": "F9Od43YSZU5J"
      },
      "source": [
        "### Q8. Em 400 simulações de determinado equipamento, foram obtidos 80 sucessos. Qual o intervalo de confiança ao nível de 95% para a proporção de sucessos."
      ]
    },
    {
      "cell_type": "code",
      "metadata": {
        "id": "bBYaSfCIae8x",
        "outputId": "5a7daf21-5254-4c03-bec3-6fa649e01769",
        "colab": {
          "base_uri": "https://localhost:8080/"
        }
      },
      "source": [
        "#percentagem de sucesso: 0,20 ou 20%\n",
        "# n = 400\n",
        "# z = 1.96\n",
        "# taxa_sucesso = 0.2\n",
        "# taxa_fracasso = 0.8\n",
        "# erro = z * np.sqrt((taxa_sucesso*taxa_fracasso)/n)\n",
        "# inf = taxa_sucesso - erro\n",
        "# sup = taxa_sucesso + erro\n",
        "\n",
        "inf, sup = prop.proportion_confint (80, 400, alpha=0.05, method='normal')\n",
        "\n",
        "print ('Limite inferior:', round(inf,2))\n",
        "print ('Limite superior:', round(sup,2))"
      ],
      "execution_count": 119,
      "outputs": [
        {
          "output_type": "stream",
          "text": [
            "Limite inferior: 0.16\n",
            "Limite superior: 0.24\n"
          ],
          "name": "stdout"
        }
      ]
    },
    {
      "cell_type": "markdown",
      "metadata": {
        "id": "0bDh7E7ycKFQ"
      },
      "source": [
        "### Q9. Do total de válvulas fabricadas por uma companhia retira-se uma amostra de 30 válvulas, e obtém-se a vida média de 800h com desvio-padrão de 100h. Qual o intervalo de confiança de 99% para a vida média da população?"
      ]
    },
    {
      "cell_type": "code",
      "metadata": {
        "id": "b4VLXLvRcL2I",
        "outputId": "87f28fc1-670c-4e64-d4fa-01d0ed700733",
        "colab": {
          "base_uri": "https://localhost:8080/"
        }
      },
      "source": [
        "#percentagem de sucesso: 0,20 ou 20%\n",
        "n = 30\n",
        "media = 800\n",
        "dp = 100\n",
        "#grau_liberdade = n-1\n",
        "ic = 0.99\n",
        "#alpha = 2.756 # gl(parte inteira (n-1), parte quebrada (1-IC99%/2 , sendo 2 pq tem negativo e positivo)) =  29,005 na tabela de distribuição de student\n",
        "\n",
        "#erro = alpha * dp/np.sqrt(n)\n",
        "#inf = media - erro\n",
        "#sup = media + erro\n",
        "# ou \n",
        "inf,sup = t.interval(ic, n-1, loc=media, scale=dp/np.sqrt(n))\n",
        "print ('Limite inferior:', round(inf,2))\n",
        "print ('Limite superior:', round(sup,2))"
      ],
      "execution_count": 136,
      "outputs": [
        {
          "output_type": "stream",
          "text": [
            "Limite inferior: 749.68\n",
            "Limite superior: 850.32\n"
          ],
          "name": "stdout"
        }
      ]
    },
    {
      "cell_type": "markdown",
      "metadata": {
        "id": "gM7EuPKziF40"
      },
      "source": [
        "### Q10. De uma distribuição normal com σ2 = 1,96, obteve-se a seguinte amostra: 25,2; 26,0; 26,4; 27,1; 28,2; 28,4. Determinar o intervalo de confiança para a média da população, sendo α = 5%."
      ]
    },
    {
      "cell_type": "code",
      "metadata": {
        "id": "eeiVktCEiJP6",
        "outputId": "79de7458-7d56-495c-9a74-3e54d027dfeb",
        "colab": {
          "base_uri": "https://localhost:8080/"
        }
      },
      "source": [
        "x = [25.2, 26, 26.4, 27.1, 28.2, 28.4]\n",
        "\n",
        "n = len(x)\n",
        "media = st.mean(x)\n",
        "dp = np.sqrt(np.sqrt(st.stdev(x)))\n",
        "# tg = 2.571\n",
        "ic = 0.95\n",
        "\n",
        "# erro = tg * dp/np.sqrt(n)\n",
        "# inf = media - erro\n",
        "# sup = media + erro\n",
        "# ou\n",
        "\n",
        "inf,sup = t.interval(ic, n-1, loc=media, scale=dp/np.sqrt(n))\n",
        "print ('Limite inferior:', round(inf,2))\n",
        "print ('Limite superior:', round(sup,2))"
      ],
      "execution_count": 166,
      "outputs": [
        {
          "output_type": "stream",
          "text": [
            "Limite inferior: 25.77\n",
            "Limite superior: 28.0\n"
          ],
          "name": "stdout"
        }
      ]
    }
  ]
}