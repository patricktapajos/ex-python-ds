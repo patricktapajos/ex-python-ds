{
  "nbformat": 4,
  "nbformat_minor": 0,
  "metadata": {
    "colab": {
      "name": "Exercício Amostragem",
      "provenance": [],
      "authorship_tag": "ABX9TyM/0rwIhXBxO4ao75C8pmA+",
      "include_colab_link": true
    },
    "kernelspec": {
      "name": "python3",
      "display_name": "Python 3"
    }
  },
  "cells": [
    {
      "cell_type": "markdown",
      "metadata": {
        "id": "view-in-github",
        "colab_type": "text"
      },
      "source": [
        "<a href=\"https://colab.research.google.com/github/patricktapajos/pos-ciencia-dados/blob/master/mod03-estatistica/aula04/Exerc%C3%ADcio_Amostragem.ipynb\" target=\"_parent\"><img src=\"https://colab.research.google.com/assets/colab-badge.svg\" alt=\"Open In Colab\"/></a>"
      ]
    },
    {
      "cell_type": "markdown",
      "metadata": {
        "id": "PN93eiHIXNCO"
      },
      "source": [
        "# Amostragem"
      ]
    },
    {
      "cell_type": "code",
      "metadata": {
        "id": "SnQ0_Yd6WSA7"
      },
      "source": [
        "# Bibliotecas necessárias\n",
        "from scipy.stats import t,norm\n",
        "import statsmodels.stats.proportion as prop\n",
        "import numpy as np"
      ],
      "execution_count": null,
      "outputs": []
    },
    {
      "cell_type": "markdown",
      "metadata": {
        "id": "PiMxQsH9XYGZ"
      },
      "source": [
        "Q1. Qual o Intervalo de Confiança para a proporção de intenção\n",
        "de voto para o Arthur e Marcelo?"
      ]
    },
    {
      "cell_type": "code",
      "metadata": {
        "id": "8Ll52QCDXdY4",
        "outputId": "13a0eaf7-bc61-4024-9d8e-e9d5726bf212",
        "colab": {
          "base_uri": "https://localhost:8080/"
        }
      },
      "source": [
        "print(\"Intervalo de Confiança ao nível de 95% \\n\")\n",
        "\n",
        "amostra = 1000\n",
        "ca = 0.485\n",
        "cm = 0.515\n",
        "\n",
        "ta = ca*amostra\n",
        "tm = cm*amostra\n",
        "\n",
        "print(\"Candidato Arthur:\")\n",
        "inf, sup = prop.proportion_confint (ta, amostra, alpha=0.05, method='normal')\n",
        "print ('Limite inferior:', np.round(inf,2))\n",
        "print ('Limite superior:', np.round(sup,2))\n",
        "\n",
        "print(\"Candidato Marcelo:\")\n",
        "inf, sup = prop.proportion_confint (tm, amostra, alpha=0.05, method='normal')\n",
        "print ('Limite inferior:', np.round(inf,2))\n",
        "print ('Limite superior:', np.round(sup,2))"
      ],
      "execution_count": null,
      "outputs": [
        {
          "output_type": "stream",
          "text": [
            "Intervalo de Confiança ao nível de 95% \n",
            "\n",
            "Candidato Arthur:\n",
            "Limite inferior: 0.45\n",
            "Limite superior: 0.52\n",
            "Candidato Marcelo:\n",
            "Limite inferior: 0.48\n",
            "Limite superior: 0.55\n"
          ],
          "name": "stdout"
        }
      ]
    },
    {
      "cell_type": "markdown",
      "metadata": {
        "id": "JGJaWeVTbcxz"
      },
      "source": [
        "Q2. Qual a margem de erro da proporção de cada candidato?"
      ]
    },
    {
      "cell_type": "code",
      "metadata": {
        "id": "oyQ0OAiebdwZ",
        "outputId": "4447a4c4-d4ed-4051-efae-9317c1d557f5",
        "colab": {
          "base_uri": "https://localhost:8080/"
        }
      },
      "source": [
        "print(\"Margem de erro: \\n\")\n",
        "\n",
        "print(\"Candidato Arthur:\")\n",
        "print (round(sup-ca,2))\n",
        "\n",
        "print(\"Candidato Marcelo:\")\n",
        "print (round(sup-cm,2))"
      ],
      "execution_count": null,
      "outputs": [
        {
          "output_type": "stream",
          "text": [
            "Margem de erro: \n",
            "\n",
            "Candidato Arthur:\n",
            "0.06\n",
            "Candidato Marcelo:\n",
            "0.03\n"
          ],
          "name": "stdout"
        }
      ]
    },
    {
      "cell_type": "markdown",
      "metadata": {
        "id": "3PxfojUbc6hg"
      },
      "source": [
        "Q3. O tamanho da amostra foi suficiente com base na margem\n",
        "de erro apresentada ao TSE?"
      ]
    },
    {
      "cell_type": "code",
      "metadata": {
        "id": "4LtyIAX8c9cv",
        "outputId": "2bbe3a69-b3d4-4900-fac4-bdace44745b4",
        "colab": {
          "base_uri": "https://localhost:8080/"
        }
      },
      "source": [
        "print(\"Tamanho da amostra: \\n\")\n",
        "n = (norm.ppf(0.975)**2)*cm*ca/(0.025**2)\n",
        "print(round(n))"
      ],
      "execution_count": null,
      "outputs": [
        {
          "output_type": "stream",
          "text": [
            "Tamanho da amostra: \n",
            "\n",
            "1535.0\n"
          ],
          "name": "stdout"
        }
      ]
    }
  ]
}