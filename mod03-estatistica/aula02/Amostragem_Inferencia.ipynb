{
  "nbformat": 4,
  "nbformat_minor": 0,
  "metadata": {
    "colab": {
      "name": "Amostragem_Inferencia.ipynb",
      "provenance": [],
      "collapsed_sections": [],
      "include_colab_link": true
    },
    "kernelspec": {
      "name": "python3",
      "display_name": "Python 3"
    }
  },
  "cells": [
    {
      "cell_type": "markdown",
      "metadata": {
        "id": "view-in-github",
        "colab_type": "text"
      },
      "source": [
        "<a href=\"https://colab.research.google.com/github/patricktapajos/pos-ciencia-dados/blob/master/mod03-estatistica/aula04/Amostragem_Inferencia.ipynb\" target=\"_parent\"><img src=\"https://colab.research.google.com/assets/colab-badge.svg\" alt=\"Open In Colab\"/></a>"
      ]
    },
    {
      "cell_type": "markdown",
      "metadata": {
        "id": "t3BGKO_fCnHJ"
      },
      "source": [
        "# Amostragem e Inferência Estatística"
      ]
    },
    {
      "cell_type": "code",
      "metadata": {
        "id": "pjliYgFtCyGH",
        "outputId": "96373b38-e16d-4ed0-b7fa-62576813f181",
        "colab": {
          "base_uri": "https://localhost:8080/"
        }
      },
      "source": [
        "# Pacotes necessários\n",
        "import pandas as pd\n",
        "import numpy as np\n",
        "import statistics as st\n",
        "import seaborn as se\n",
        "import statsmodels.stats.proportion as smp\n",
        "from scipy import stats"
      ],
      "execution_count": 1,
      "outputs": [
        {
          "output_type": "stream",
          "text": [
            "/usr/local/lib/python3.6/dist-packages/statsmodels/tools/_testing.py:19: FutureWarning: pandas.util.testing is deprecated. Use the functions in the public API at pandas.testing instead.\n",
            "  import pandas.util.testing as tm\n"
          ],
          "name": "stderr"
        }
      ]
    },
    {
      "cell_type": "code",
      "metadata": {
        "id": "KroR24ZPxJKh",
        "outputId": "5ee0a076-2dfd-462a-d13a-6d018ae8d482",
        "colab": {
          "base_uri": "https://localhost:8080/"
        }
      },
      "source": [
        "from google.colab import drive\n",
        "drive.mount('/content/drive')"
      ],
      "execution_count": 2,
      "outputs": [
        {
          "output_type": "stream",
          "text": [
            "Mounted at /content/drive\n"
          ],
          "name": "stdout"
        }
      ]
    },
    {
      "cell_type": "code",
      "metadata": {
        "id": "LfLxKinLCzdQ",
        "outputId": "27a0d489-899e-4f62-daa2-5c5b48793ca0",
        "colab": {
          "base_uri": "https://localhost:8080/",
          "height": 422
        }
      },
      "source": [
        "bdenade = pd.read_csv('bdenade.csv',sep=';',decimal=',')\n",
        "bdenade"
      ],
      "execution_count": 5,
      "outputs": [
        {
          "output_type": "execute_result",
          "data": {
            "text/html": [
              "<div>\n",
              "<style scoped>\n",
              "    .dataframe tbody tr th:only-of-type {\n",
              "        vertical-align: middle;\n",
              "    }\n",
              "\n",
              "    .dataframe tbody tr th {\n",
              "        vertical-align: top;\n",
              "    }\n",
              "\n",
              "    .dataframe thead th {\n",
              "        text-align: right;\n",
              "    }\n",
              "</style>\n",
              "<table border=\"1\" class=\"dataframe\">\n",
              "  <thead>\n",
              "    <tr style=\"text-align: right;\">\n",
              "      <th></th>\n",
              "      <th>Ano</th>\n",
              "      <th>Codigo_Area</th>\n",
              "      <th>Codigo_IES</th>\n",
              "      <th>Categoria_Administrativa</th>\n",
              "      <th>Nconcluintes_Inscritos</th>\n",
              "      <th>Nconcluintes_Participantes</th>\n",
              "      <th>NotaBruta_FG</th>\n",
              "      <th>NotaBruta_CE</th>\n",
              "      <th>ConceitoEnade_Continuo</th>\n",
              "      <th>ConceitoEnade_Faixa,,,,</th>\n",
              "    </tr>\n",
              "  </thead>\n",
              "  <tbody>\n",
              "    <tr>\n",
              "      <th>0</th>\n",
              "      <td>2017</td>\n",
              "      <td>21</td>\n",
              "      <td>4</td>\n",
              "      <td>Federal</td>\n",
              "      <td>64</td>\n",
              "      <td>50</td>\n",
              "      <td>60.36</td>\n",
              "      <td>54.71</td>\n",
              "      <td>3.35</td>\n",
              "      <td>4.0</td>\n",
              "    </tr>\n",
              "    <tr>\n",
              "      <th>1</th>\n",
              "      <td>2017</td>\n",
              "      <td>21</td>\n",
              "      <td>452</td>\n",
              "      <td>Privada</td>\n",
              "      <td>5</td>\n",
              "      <td>5</td>\n",
              "      <td>46.60</td>\n",
              "      <td>35.38</td>\n",
              "      <td>1.04</td>\n",
              "      <td>2.0</td>\n",
              "    </tr>\n",
              "    <tr>\n",
              "      <th>2</th>\n",
              "      <td>2017</td>\n",
              "      <td>21</td>\n",
              "      <td>669</td>\n",
              "      <td>Privada</td>\n",
              "      <td>70</td>\n",
              "      <td>64</td>\n",
              "      <td>45.57</td>\n",
              "      <td>35.05</td>\n",
              "      <td>0.97</td>\n",
              "      <td>2.0</td>\n",
              "    </tr>\n",
              "    <tr>\n",
              "      <th>3</th>\n",
              "      <td>2017</td>\n",
              "      <td>21</td>\n",
              "      <td>1422</td>\n",
              "      <td>Privada</td>\n",
              "      <td>250</td>\n",
              "      <td>130</td>\n",
              "      <td>47.18</td>\n",
              "      <td>37.23</td>\n",
              "      <td>1.23</td>\n",
              "      <td>2.0</td>\n",
              "    </tr>\n",
              "    <tr>\n",
              "      <th>4</th>\n",
              "      <td>2017</td>\n",
              "      <td>21</td>\n",
              "      <td>2147</td>\n",
              "      <td>Privada</td>\n",
              "      <td>250</td>\n",
              "      <td>190</td>\n",
              "      <td>40.09</td>\n",
              "      <td>33.75</td>\n",
              "      <td>0.64</td>\n",
              "      <td>1.0</td>\n",
              "    </tr>\n",
              "    <tr>\n",
              "      <th>...</th>\n",
              "      <td>...</td>\n",
              "      <td>...</td>\n",
              "      <td>...</td>\n",
              "      <td>...</td>\n",
              "      <td>...</td>\n",
              "      <td>...</td>\n",
              "      <td>...</td>\n",
              "      <td>...</td>\n",
              "      <td>...</td>\n",
              "      <td>...</td>\n",
              "    </tr>\n",
              "    <tr>\n",
              "      <th>610</th>\n",
              "      <td>2018</td>\n",
              "      <td>85</td>\n",
              "      <td>1422</td>\n",
              "      <td>Privada</td>\n",
              "      <td>8</td>\n",
              "      <td>6</td>\n",
              "      <td>45.90</td>\n",
              "      <td>43.95</td>\n",
              "      <td>2.66</td>\n",
              "      <td>3.0</td>\n",
              "    </tr>\n",
              "    <tr>\n",
              "      <th>611</th>\n",
              "      <td>2018</td>\n",
              "      <td>87</td>\n",
              "      <td>1422</td>\n",
              "      <td>Privada</td>\n",
              "      <td>21</td>\n",
              "      <td>21</td>\n",
              "      <td>32.03</td>\n",
              "      <td>46.08</td>\n",
              "      <td>2.73</td>\n",
              "      <td>3.0</td>\n",
              "    </tr>\n",
              "    <tr>\n",
              "      <th>612</th>\n",
              "      <td>2018</td>\n",
              "      <td>86</td>\n",
              "      <td>669</td>\n",
              "      <td>Privada</td>\n",
              "      <td>31</td>\n",
              "      <td>31</td>\n",
              "      <td>36.45</td>\n",
              "      <td>42.13</td>\n",
              "      <td>2.05</td>\n",
              "      <td>3.0</td>\n",
              "    </tr>\n",
              "    <tr>\n",
              "      <th>613</th>\n",
              "      <td>2018</td>\n",
              "      <td>38</td>\n",
              "      <td>322</td>\n",
              "      <td>Privada</td>\n",
              "      <td>16</td>\n",
              "      <td>8</td>\n",
              "      <td>37.98</td>\n",
              "      <td>37.98</td>\n",
              "      <td>1.64</td>\n",
              "      <td>2.0</td>\n",
              "    </tr>\n",
              "    <tr>\n",
              "      <th>614</th>\n",
              "      <td>2018</td>\n",
              "      <td>94</td>\n",
              "      <td>322</td>\n",
              "      <td>Privada</td>\n",
              "      <td>45</td>\n",
              "      <td>37</td>\n",
              "      <td>36.97</td>\n",
              "      <td>42.89</td>\n",
              "      <td>2.43</td>\n",
              "      <td>3.0</td>\n",
              "    </tr>\n",
              "  </tbody>\n",
              "</table>\n",
              "<p>615 rows × 10 columns</p>\n",
              "</div>"
            ],
            "text/plain": [
              "      Ano  Codigo_Area  ...  ConceitoEnade_Continuo ConceitoEnade_Faixa,,,,\n",
              "0    2017           21  ...                    3.35                     4.0\n",
              "1    2017           21  ...                    1.04                     2.0\n",
              "2    2017           21  ...                    0.97                     2.0\n",
              "3    2017           21  ...                    1.23                     2.0\n",
              "4    2017           21  ...                    0.64                     1.0\n",
              "..    ...          ...  ...                     ...                     ...\n",
              "610  2018           85  ...                    2.66                     3.0\n",
              "611  2018           87  ...                    2.73                     3.0\n",
              "612  2018           86  ...                    2.05                     3.0\n",
              "613  2018           38  ...                    1.64                     2.0\n",
              "614  2018           94  ...                    2.43                     3.0\n",
              "\n",
              "[615 rows x 10 columns]"
            ]
          },
          "metadata": {
            "tags": []
          },
          "execution_count": 5
        }
      ]
    },
    {
      "cell_type": "code",
      "metadata": {
        "id": "NZaU5oQQDEgu",
        "outputId": "ee5e7264-7834-412b-81e2-7fc3bc35c892",
        "colab": {
          "base_uri": "https://localhost:8080/"
        }
      },
      "source": [
        "# Verificar quantidades de linhas e colunas\n",
        "bdenade.shape"
      ],
      "execution_count": 6,
      "outputs": [
        {
          "output_type": "execute_result",
          "data": {
            "text/plain": [
              "(615, 10)"
            ]
          },
          "metadata": {
            "tags": []
          },
          "execution_count": 6
        }
      ]
    },
    {
      "cell_type": "code",
      "metadata": {
        "id": "8XOmSdhUOejK"
      },
      "source": [
        "# Mudança da semente aleatória randômica para manter os resultados em várias execuções\n",
        "np.random.seed(2345)"
      ],
      "execution_count": 7,
      "outputs": []
    },
    {
      "cell_type": "code",
      "metadata": {
        "id": "1E3cs6UeOr_x",
        "outputId": "58121bec-90bb-42c8-c1bc-7ec2c39e5ce1",
        "colab": {
          "base_uri": "https://localhost:8080/"
        }
      },
      "source": [
        "# Definir a semente aleatória para manter os mesmos resultados\n",
        "np.random.seed(2345)\n",
        "# 615 amostras, de 0 a 1, com reposição, probabilidades equivalentes\n",
        "amostra = np.random.choice(a = [0, 1], size = 615, replace = True,\n",
        "                           p = [0.3, 0.7])\n",
        "amostra\n",
        "# Tamanho da amostra\n",
        "print(\"amostra geral = \",len(amostra))\n",
        "# Verificar o tamanho de cada amostra\n",
        "print(\"amostra 0 = \",len(amostra[amostra == 0]))\n",
        "print(\"amostra 1 = \", len(amostra[amostra == 1]))"
      ],
      "execution_count": 8,
      "outputs": [
        {
          "output_type": "stream",
          "text": [
            "amostra geral =  615\n",
            "amostra 0 =  193\n",
            "amostra 1 =  422\n"
          ],
          "name": "stdout"
        }
      ]
    },
    {
      "cell_type": "code",
      "metadata": {
        "id": "_e9JzXvBVeRu",
        "outputId": "e9f86749-8a54-488f-bdf7-9da71c090c1b",
        "colab": {
          "base_uri": "https://localhost:8080/"
        }
      },
      "source": [
        "# Amostras sorteadas:\n",
        "print(amostra)"
      ],
      "execution_count": 9,
      "outputs": [
        {
          "output_type": "stream",
          "text": [
            "[1 1 1 0 1 1 0 0 1 1 0 1 0 1 1 0 1 1 1 1 1 1 0 1 1 1 0 1 1 1 1 0 0 1 1 0 1\n",
            " 1 1 0 1 0 1 1 0 1 1 1 1 1 1 1 1 1 0 0 1 1 0 0 0 1 1 0 1 0 1 1 1 1 1 0 0 0\n",
            " 0 1 1 1 1 1 1 1 1 1 1 1 0 1 1 1 1 0 1 0 1 1 1 1 1 1 0 1 0 0 1 0 1 0 1 0 0\n",
            " 1 1 0 0 0 1 0 1 0 1 0 1 1 1 1 1 1 1 0 1 1 1 1 1 1 1 1 1 1 0 1 1 1 1 1 1 1\n",
            " 0 1 1 1 1 1 1 0 1 1 1 0 0 1 0 1 1 1 1 1 1 1 1 1 1 1 1 1 1 1 0 0 0 1 1 1 1\n",
            " 1 0 1 1 1 1 0 1 1 1 1 1 1 1 1 1 1 1 1 1 1 1 1 1 1 0 1 0 1 0 0 1 1 0 1 0 1\n",
            " 1 1 0 1 0 1 1 0 1 1 1 1 1 0 0 1 1 1 1 1 0 1 1 1 1 1 0 0 1 1 0 1 1 0 0 0 1\n",
            " 1 1 0 0 1 0 1 1 1 0 0 1 0 0 1 0 1 0 1 1 1 1 1 0 0 0 0 1 0 1 1 1 1 1 1 1 0\n",
            " 1 0 1 1 0 1 1 1 0 1 1 1 1 1 1 1 1 1 0 0 0 1 0 1 0 1 1 0 0 1 0 0 0 1 0 1 0\n",
            " 1 1 1 1 1 1 1 1 0 1 1 1 1 1 1 0 0 1 1 0 0 0 1 1 0 0 1 1 1 1 1 0 1 0 0 1 1\n",
            " 1 0 1 0 1 0 1 0 0 0 1 1 1 1 1 1 1 1 1 1 1 0 1 1 1 1 0 0 1 1 1 0 0 1 0 0 1\n",
            " 1 0 0 1 1 0 1 0 1 1 1 1 1 1 0 1 1 1 1 1 0 1 1 0 1 0 0 0 1 1 1 0 0 1 0 1 0\n",
            " 1 0 0 1 1 1 1 1 1 0 0 0 0 1 1 0 0 1 1 1 0 1 0 0 0 1 1 1 1 1 1 0 1 0 1 1 1\n",
            " 1 1 1 1 1 0 1 1 1 1 1 1 1 1 0 0 1 1 0 1 1 1 1 1 0 0 0 1 1 1 1 1 1 1 0 1 1\n",
            " 1 1 1 0 1 1 1 1 0 0 1 1 1 1 0 1 0 1 1 0 0 1 0 1 0 1 1 0 0 1 1 1 1 1 1 0 0\n",
            " 0 1 1 1 0 1 0 0 1 1 1 1 1 1 1 1 1 1 0 1 1 1 0 1 1 1 1 0 1 1 1 1 1 1 1 1 0\n",
            " 1 0 0 0 0 1 0 0 1 0 0 1 1 0 1 1 0 1 1 1 1 0 1]\n"
          ],
          "name": "stdout"
        }
      ]
    },
    {
      "cell_type": "code",
      "metadata": {
        "id": "0RQC5Z1xS7BF",
        "outputId": "7d8bc082-5cf2-40a1-ac86-d077646c957a",
        "colab": {
          "base_uri": "https://localhost:8080/"
        }
      },
      "source": [
        "bd_final1 = bdenade.loc[amostra == 0]\n",
        "bd_final1.shape"
      ],
      "execution_count": 10,
      "outputs": [
        {
          "output_type": "execute_result",
          "data": {
            "text/plain": [
              "(193, 10)"
            ]
          },
          "metadata": {
            "tags": []
          },
          "execution_count": 10
        }
      ]
    },
    {
      "cell_type": "code",
      "metadata": {
        "id": "_xRPFpxqTo4O",
        "outputId": "30969c5e-89c4-499b-a74a-c867852d1545",
        "colab": {
          "base_uri": "https://localhost:8080/"
        }
      },
      "source": [
        "bd_final2 = bdenade.loc[amostra == 1]\n",
        "bd_final2.shape"
      ],
      "execution_count": 11,
      "outputs": [
        {
          "output_type": "execute_result",
          "data": {
            "text/plain": [
              "(422, 10)"
            ]
          },
          "metadata": {
            "tags": []
          },
          "execution_count": 11
        }
      ]
    },
    {
      "cell_type": "markdown",
      "metadata": {
        "id": "R3xkQ2zmXrlg"
      },
      "source": [
        "Intervalo de Confiança para Média"
      ]
    },
    {
      "cell_type": "code",
      "metadata": {
        "id": "EcxW5qEBUGZk"
      },
      "source": [
        "# Pacote necessário\n",
        "from scipy.stats import t,norm"
      ],
      "execution_count": 13,
      "outputs": []
    },
    {
      "cell_type": "code",
      "metadata": {
        "id": "RKuX-NuMX0qK",
        "outputId": "721f57ad-d763-4f38-bf82-6b14cdac0364",
        "colab": {
          "base_uri": "https://localhost:8080/"
        }
      },
      "source": [
        "# Deseja-se avaliar o diâmetro em mm dos parafusos utilizados na fixação da placa mãe em gabinetes para CPU de determinada empresa. Uma amostra de dez corpos de prova de parafuso foram avaliados:\n",
        "# {3,48; 3,50; 3,48; 3,49; 3,49; 3,48; 3,50; 3,51; 3,49; 3,50}\n",
        "x = (3.48,3.5,3.48,3.49,3.49,3.48,3.5,3.51,3.49,3.50)\n",
        "print(\"média=\",round(st.mean(x),3))\n",
        "print(\"desvio-padrão=\",round(st.stdev(x),3))"
      ],
      "execution_count": 14,
      "outputs": [
        {
          "output_type": "stream",
          "text": [
            "média= 3.492\n",
            "desvio-padrão= 0.01\n"
          ],
          "name": "stdout"
        }
      ]
    },
    {
      "cell_type": "code",
      "metadata": {
        "id": "_yFY6cOgZXq_"
      },
      "source": [
        "# a) Intervalo de Confiança ao nível de 95%;\n",
        "print(\"Intervalo de Confiança ao nível de 95% para média quando a variância é desconhecida\")\n",
        "inf,sup = t.interval(0.95, len(x)-1, loc=st.mean(x), scale=st.stdev(x)/np.sqrt(len(x)))\n",
        "print ('Limite inferior:', round(inf,3))\n",
        "print ('Limite superior:', round(sup,3))\n"
      ],
      "execution_count": null,
      "outputs": []
    },
    {
      "cell_type": "code",
      "metadata": {
        "id": "9ZYeZuCSrzOB"
      },
      "source": [
        "\n",
        "# b)\tA amostra foi suficiente, levando em consideração um erro máximo de 0,01 mm ao nível de 95%?\n",
        "# n = t2*s2/e2\n",
        "n = (t.ppf(0.025,9)**2)*(st.stdev(x)**2)/(0.01**2)\n",
        "print(\"Tamanho da amostra =\",round(n))"
      ],
      "execution_count": null,
      "outputs": []
    },
    {
      "cell_type": "code",
      "metadata": {
        "id": "NJd74WLOcy_l"
      },
      "source": [
        "# No caso da variância conhecida, por exemplo sigma ao quadrado = 1, a função fica:\n",
        "print(\"Intervalo de Confiança ao nível de 95% para média quando a variância é conhecida\")                                              \n",
        "inf, sup = norm.interval(0.95, loc=st.mean(x), scale=0.05/np.sqrt(len(x)))\n",
        "print ('Limite inferior:', round(inf,3))\n",
        "print ('Limite superior:', round(sup,3))"
      ],
      "execution_count": null,
      "outputs": []
    },
    {
      "cell_type": "markdown",
      "metadata": {
        "id": "bkM1tN3-OwOa"
      },
      "source": [
        "Intervalo de Confiança para Proporção"
      ]
    },
    {
      "cell_type": "code",
      "metadata": {
        "id": "pmOc7Ky97o4v"
      },
      "source": [
        "# Pacote necessário\n",
        "import statsmodels.stats.proportion as prop\n"
      ],
      "execution_count": 15,
      "outputs": []
    },
    {
      "cell_type": "code",
      "metadata": {
        "id": "q-p4q9iiWLmm",
        "outputId": "180848c7-aa69-4f90-83a5-05686997c7df",
        "colab": {
          "base_uri": "https://localhost:8080/"
        }
      },
      "source": [
        "# Na avaliação de dois sistemas computacionais, A e B, foram selecionadas 400 cargas de trabalho (tarefas) – supostamente uma amostra aleatória da infinidade de cargas de trabalho que poderiam ser submetidas a esses sistemas. O sistema A foi melhor que o B em 240 dos casos. Construir um intervalo de confiança para p (proporção de vezes que o sistema A é melhor que o sistema B, considerando todas as possíveis cargas de trabalho) ao nível de 95%. É possível diminuir o custo com amostragem trabalhando com erro amostral de 3%?\n",
        "inf, sup = prop.proportion_confint (240, 400, alpha=0.05, method='normal')\n",
        "print ('Limite inferior:', round(inf,2))\n",
        "print ('Limite superior:', round(sup,2))"
      ],
      "execution_count": 16,
      "outputs": [
        {
          "output_type": "stream",
          "text": [
            "Limite inferior: 0.55\n",
            "Limite superior: 0.65\n"
          ],
          "name": "stdout"
        }
      ]
    },
    {
      "cell_type": "code",
      "metadata": {
        "id": "n_8KLF78XFTY",
        "outputId": "dae231fc-df56-44d1-aba0-23ef052bda15",
        "colab": {
          "base_uri": "https://localhost:8080/"
        }
      },
      "source": [
        "# Tamanho da amostra:\n",
        "n = (norm.ppf(0.975)**2)*0.4*0.6/(0.05**2)\n",
        "round(n)"
      ],
      "execution_count": 18,
      "outputs": [
        {
          "output_type": "execute_result",
          "data": {
            "text/plain": [
              "369.0"
            ]
          },
          "metadata": {
            "tags": []
          },
          "execution_count": 18
        }
      ]
    },
    {
      "cell_type": "markdown",
      "metadata": {
        "id": "BgB8T7m4dTYf"
      },
      "source": [
        "Atividade prática com o banco de dados bdenade"
      ]
    },
    {
      "cell_type": "code",
      "metadata": {
        "id": "fMR5_1iKZE-j"
      },
      "source": [
        "## Explorar o banco de dados\n",
        "bdenade.info()"
      ],
      "execution_count": null,
      "outputs": []
    },
    {
      "cell_type": "code",
      "metadata": {
        "id": "CHqUeiUseNr6"
      },
      "source": [
        "# Renomear as colunas\n",
        "bdenade.columns = [\"ano\",\"area\",\"ies\",\"esfera\",\"ninscritos\",\"nparticipantes\",\"notafg\",\"notace\",\"conceito\",\"nota\"]\n",
        "bdenade"
      ],
      "execution_count": null,
      "outputs": []
    },
    {
      "cell_type": "code",
      "metadata": {
        "id": "MfI3QpogqRBK"
      },
      "source": [
        "## Caso tivesse um id, poderíamos indexar\n",
        "# bdenade.set_index('id', inplace=True)\n",
        "# bdenade.head(10)"
      ],
      "execution_count": null,
      "outputs": []
    },
    {
      "cell_type": "code",
      "metadata": {
        "id": "07iyzx6prNMe"
      },
      "source": [
        "# selecionar um registro específico\n",
        "bdenade.loc[0]"
      ],
      "execution_count": null,
      "outputs": []
    },
    {
      "cell_type": "code",
      "metadata": {
        "id": "2VjO_l2Hd2R2"
      },
      "source": [
        "# Tabulação de dados\n",
        "categoriadm = bdenade.groupby(['esfera']).size()\n",
        "categoriadm"
      ],
      "execution_count": null,
      "outputs": []
    },
    {
      "cell_type": "code",
      "metadata": {
        "id": "XvT9tkx0e3q6"
      },
      "source": [
        "# gráfico de colunas\n",
        "categoriadm.plot.bar(color = 'gray')"
      ],
      "execution_count": null,
      "outputs": []
    },
    {
      "cell_type": "code",
      "metadata": {
        "id": "U2RLPWKoffB_"
      },
      "source": [
        "# Explorar dados numéricos\n",
        "bdenade['conceito'].describe()"
      ],
      "execution_count": null,
      "outputs": []
    },
    {
      "cell_type": "code",
      "metadata": {
        "id": "SSSF2XXpiFGP"
      },
      "source": [
        "se.boxplot(bdenade['conceito']).set_title('Box-plot do conceito ENADE contínuo')"
      ],
      "execution_count": null,
      "outputs": []
    },
    {
      "cell_type": "code",
      "metadata": {
        "id": "oCDNbqnLr3Le"
      },
      "source": [
        "# Verificar os registros acima de 4\n",
        "bdenade4 = bdenade.query('conceito >= 4').head()"
      ],
      "execution_count": null,
      "outputs": []
    },
    {
      "cell_type": "code",
      "metadata": {
        "id": "VffxXkGxihRj"
      },
      "source": [
        "se.distplot(bdenade['conceito']).set_title('Histograma do conceito ENADE contínuo')"
      ],
      "execution_count": null,
      "outputs": []
    },
    {
      "cell_type": "code",
      "metadata": {
        "id": "5EevJ7CPXVcu"
      },
      "source": [
        "n=len(bdenade)\n",
        "media=st.mean(bdenade['conceito'])\n",
        "dp=st.stdev(bdenade['conceito'])\n",
        "inf,sup = t.interval(0.95, len(bdenade)-1, loc=media, scale=dp/np.sqrt(n))\n",
        "print ('Limite inferior:', round(inf,2))\n",
        "print ('Limite superior:', round(sup,2))"
      ],
      "execution_count": null,
      "outputs": []
    },
    {
      "cell_type": "code",
      "metadata": {
        "id": "iqyR6hr_sRpV"
      },
      "source": [
        "stats.shapiro(bdenade['conceito'])"
      ],
      "execution_count": null,
      "outputs": []
    },
    {
      "cell_type": "code",
      "metadata": {
        "id": "c0s1qkfcXg9s"
      },
      "source": [
        "# Tratamento de outliers por meio do desvio-padrão\n",
        "dp = st.stdev(bdenade['conceito'])\n",
        "dp"
      ],
      "execution_count": null,
      "outputs": []
    },
    {
      "cell_type": "code",
      "metadata": {
        "id": "Z4QyG6f_Zcpr"
      },
      "source": [
        "# Definir como padrão 2 ou mais desvio-padrão\n",
        "bdenade.loc[bdenade['conceito'] >=  2 * dp] "
      ],
      "execution_count": null,
      "outputs": []
    },
    {
      "cell_type": "code",
      "metadata": {
        "id": "zkb8HNyks70f"
      },
      "source": [
        "#se.boxplot(bdenade['conceito'],bdenade['esfera']).set_title('Box-plot do conceito ENADE contínuo por Esfera Administrativa')\n",
        "bdenade.boxplot(\"conceito\",by=\"esfera\",grid=False).set_title('Box-plot do conceito ENADE contínuo por Esfera Administrativa')"
      ],
      "execution_count": null,
      "outputs": []
    },
    {
      "cell_type": "code",
      "metadata": {
        "id": "n1LiMWFxukaP"
      },
      "source": [
        "# Análise descritiva em relação a esfera\n",
        "resumo = bdenade.groupby('esfera').agg({'conceito':['describe']})\n",
        "resumo"
      ],
      "execution_count": null,
      "outputs": []
    },
    {
      "cell_type": "code",
      "metadata": {
        "id": "-YDM2Sx-Pb2l"
      },
      "source": [
        "# Intervalo de Confiança para a variável conceito\n",
        "n=len(bdenade)\n",
        "media=st.mean(bdenade['conceito'])\n",
        "dp=st.stdev(bdenade['conceito'])\n",
        "inf,sup = t.interval(0.95, len(bdenade)-1, loc=media, scale=dp/np.sqrt(n))\n",
        "print ('Limite inferior:', round(inf,2))\n",
        "print ('Limite superior:', round(sup,2))"
      ],
      "execution_count": null,
      "outputs": []
    },
    {
      "cell_type": "code",
      "metadata": {
        "id": "VbXWlQV5l0CQ"
      },
      "source": [
        "# Seleção dos dados da esfera Estadual\n",
        "bdprivada=bdenade.query('esfera==\"Privada\"')"
      ],
      "execution_count": null,
      "outputs": []
    },
    {
      "cell_type": "code",
      "metadata": {
        "id": "T_b49H0ytNaU"
      },
      "source": [
        "bdestadual.head"
      ],
      "execution_count": null,
      "outputs": []
    },
    {
      "cell_type": "code",
      "metadata": {
        "id": "UoPDqseytPCb"
      },
      "source": [
        "bdprivada['conceito'].describe()"
      ],
      "execution_count": null,
      "outputs": []
    },
    {
      "cell_type": "code",
      "metadata": {
        "id": "K6yNZ9zWul_Q"
      },
      "source": [
        "se.distplot(bdprivada['conceito'])"
      ],
      "execution_count": null,
      "outputs": []
    },
    {
      "cell_type": "code",
      "metadata": {
        "id": "wxdozEEtu8V0"
      },
      "source": [
        ""
      ],
      "execution_count": null,
      "outputs": []
    }
  ]
}