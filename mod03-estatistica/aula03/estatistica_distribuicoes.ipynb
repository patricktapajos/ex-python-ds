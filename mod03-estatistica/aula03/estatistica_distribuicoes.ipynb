{
  "nbformat": 4,
  "nbformat_minor": 0,
  "metadata": {
    "colab": {
      "name": "estatistica_distribuicoes",
      "provenance": [],
      "collapsed_sections": [],
      "include_colab_link": true
    },
    "kernelspec": {
      "name": "python3",
      "display_name": "Python 3"
    }
  },
  "cells": [
    {
      "cell_type": "markdown",
      "metadata": {
        "id": "view-in-github",
        "colab_type": "text"
      },
      "source": [
        "<a href=\"https://colab.research.google.com/github/patricktapajos/pos-ciencia-dados/blob/master/mod03-estatistica/aula03/estatistica_distribuicoes.ipynb\" target=\"_parent\"><img src=\"https://colab.research.google.com/assets/colab-badge.svg\" alt=\"Open In Colab\"/></a>"
      ]
    },
    {
      "cell_type": "markdown",
      "metadata": {
        "id": "t5oLQNm_xilh"
      },
      "source": [
        "# Distribuições Discretas e Contínuas"
      ]
    },
    {
      "cell_type": "code",
      "metadata": {
        "id": "ZN1-V9Lrxv5V"
      },
      "source": [
        "from scipy.stats import binom, nbinom, poisson, uniform, expon, norm \n",
        "import numpy as np\n",
        "import matplotlib.pyplot as plt\n",
        "import seaborn as sea\n",
        "import statistics as st\n",
        "from scipy import stats"
      ],
      "execution_count": null,
      "outputs": []
    },
    {
      "cell_type": "markdown",
      "metadata": {
        "id": "m1k9arzVRyfP"
      },
      "source": [
        "## Distribuição Binomial"
      ]
    },
    {
      "cell_type": "code",
      "metadata": {
        "id": "mRznXtaRzhKN"
      },
      "source": [
        "# Exemplo\n",
        "# Em uma avaliação de 10 questões, com 4 alternativas cada, qual a probabilidade de um aluno sorteado ao acaso acertar:"
      ],
      "execution_count": null,
      "outputs": []
    },
    {
      "cell_type": "code",
      "metadata": {
        "id": "LTPqwkB42Dn4"
      },
      "source": [
        "# a) Nenhuma questão?\n",
        "print(\"P(x=0):\",binom.pmf(0,10,0.25))"
      ],
      "execution_count": null,
      "outputs": []
    },
    {
      "cell_type": "code",
      "metadata": {
        "id": "BjFp5nA-2cZP"
      },
      "source": [
        "# b) Pelo menos 3 questões?\n",
        "print(\"P(>=3):\",1-binom.cdf(3,10,0.25))"
      ],
      "execution_count": null,
      "outputs": []
    },
    {
      "cell_type": "code",
      "metadata": {
        "id": "unyiUhfm2zJY"
      },
      "source": [
        "# c) Mais de 7 questões?\n",
        "print(\"P(x>7):\",1-binom.cdf(7,10,0.25))"
      ],
      "execution_count": null,
      "outputs": []
    },
    {
      "cell_type": "code",
      "metadata": {
        "id": "Ds12uscL7KNW"
      },
      "source": [
        "# Geração de dígitos aleatórios com base na distribuição Binomial\n",
        "x = random.binomial(n=10, p=0.5, size=100)\n",
        "print(x)"
      ],
      "execution_count": null,
      "outputs": []
    },
    {
      "cell_type": "code",
      "metadata": {
        "id": "cDbPSQ2_78EJ"
      },
      "source": [
        "# Gerar gráfico da distribuição Binomial\n",
        "n = 10\n",
        "p = 0.5\n",
        "k_valores = np.arange(0,10)\n",
        "distbinom = [binom.pmf(k,n,p) for k in k_valores]\n",
        "distbinom\n"
      ],
      "execution_count": null,
      "outputs": []
    },
    {
      "cell_type": "code",
      "metadata": {
        "id": "-fKKKLdz_OWP"
      },
      "source": [
        "# Geração do gráfico\n",
        "plt.bar(k_valores,distbinom)\n",
        "plt.show()"
      ],
      "execution_count": null,
      "outputs": []
    },
    {
      "cell_type": "markdown",
      "metadata": {
        "id": "Rnj8o2xrSHpn"
      },
      "source": [
        "## Distribuição de Poisson"
      ]
    },
    {
      "cell_type": "code",
      "metadata": {
        "id": "ZDg5qV334XxP"
      },
      "source": [
        "# Exemplo\n",
        "# Admita que o número de consultas à home page de uma determinada Empresa durante um período de tempo obedece a uma distribuição de Poisson e que em média 2"
      ],
      "execution_count": null,
      "outputs": []
    },
    {
      "cell_type": "code",
      "metadata": {
        "id": "knshHu6m5d2G"
      },
      "source": [
        "# a) Qual a probabilidade de que em um determinado dia sejam realizadas exatamentes  três consultas?\n",
        "print(\"P(x=3):\",poisson.pmf(3,2))"
      ],
      "execution_count": null,
      "outputs": []
    },
    {
      "cell_type": "code",
      "metadata": {
        "id": "qahAKReB50cu"
      },
      "source": [
        "# b) Qual a probabildaide de que em um determinado dia ocorram mais de cinco consultas?\n",
        "print(\"P(x=3):\",1-poisson.cdf(5,2))"
      ],
      "execution_count": null,
      "outputs": []
    },
    {
      "cell_type": "code",
      "metadata": {
        "id": "EeG3g3Y16eWj"
      },
      "source": [
        "# Gerar digitps aleatórios da distribuição Poisson\n",
        "# Poisson\n",
        "from numpy import random\n",
        "\n",
        "x = random.poisson(lam=2, size=10)\n",
        "\n",
        "print(x)"
      ],
      "execution_count": null,
      "outputs": []
    },
    {
      "cell_type": "code",
      "metadata": {
        "id": "5e6TUy6I_1dM"
      },
      "source": [
        "# Geração de valores aleatórios e apresentação gráfica\n",
        "from numpy import random\n",
        "import matplotlib.pyplot as plt\n",
        "import seaborn as sns\n",
        "sns.distplot(random.poisson(lam=2, size=1000), kde=False)\n",
        "plt.show()"
      ],
      "execution_count": null,
      "outputs": []
    },
    {
      "cell_type": "markdown",
      "metadata": {
        "id": "iTAd8Dd3SPVD"
      },
      "source": [
        "## Distribuição Uniforme"
      ]
    },
    {
      "cell_type": "code",
      "metadata": {
        "id": "sJz97wtcSWIq"
      },
      "source": [
        "# Exemplo\n",
        "## Um profissional de computação observou que seu sistema gasta entre 20 e 24 segundos para realizar determinada tarefa. Sob esse intervalo, calcule a média, variância e a probabilidade do sistema gastar mais de 23 segundos."
      ],
      "execution_count": null,
      "outputs": []
    },
    {
      "cell_type": "code",
      "metadata": {
        "id": "v3OLB-KNT4O-",
        "outputId": "9944f02e-e3a7-4297-997c-92f2cf0fd2e6",
        "colab": {
          "base_uri": "https://localhost:8080/"
        }
      },
      "source": [
        "# Em distribuições com variáveis contínuas, não há problema em incluir o ponto de início, nesse caso X maior OU IGUAL a 23\n",
        "# P(x>23)= 1 - P(x<=23)\n",
        "1-uniform.cdf(23,20,4)"
      ],
      "execution_count": null,
      "outputs": [
        {
          "output_type": "execute_result",
          "data": {
            "text/plain": [
              "0.25"
            ]
          },
          "metadata": {
            "tags": []
          },
          "execution_count": 8
        }
      ]
    },
    {
      "cell_type": "code",
      "metadata": {
        "id": "Qxij_0R8vf1X",
        "outputId": "0f4e75fc-12da-4a9b-d17a-0a5fda24813c",
        "colab": {
          "base_uri": "https://localhost:8080/"
        }
      },
      "source": [
        "# Geração de valores aleatórios e apresentação gráfica\n",
        "import matplotlib.pyplot as plt\n",
        "import seaborn as sns\n",
        "from numpy import random\n",
        "sns.distplot(random.uniform(20,24, size=1000), kde=True)\n",
        "plt.title('Distribuição Unifome')\n",
        "plt.show()"
      ],
      "execution_count": null,
      "outputs": [
        {
          "output_type": "stream",
          "text": [
            "/usr/local/lib/python3.6/dist-packages/seaborn/distributions.py:2551: FutureWarning: `distplot` is a deprecated function and will be removed in a future version. Please adapt your code to use either `displot` (a figure-level function with similar flexibility) or `histplot` (an axes-level function for histograms).\n",
            "  warnings.warn(msg, FutureWarning)\n"
          ],
          "name": "stderr"
        },
        {
          "output_type": "display_data",
          "data": {
            "image/png": "[encoded data removed]",
            "text/plain": [
              "<Figure size 432x288 with 1 Axes>"
            ]
          },
          "metadata": {
            "tags": [],
            "needs_background": "light"
          }
        }
      ]
    },
    {
      "cell_type": "markdown",
      "metadata": {
        "id": "6OILn4dc1sFA"
      },
      "source": [
        "## Distribuição Exponencial"
      ]
    },
    {
      "cell_type": "code",
      "metadata": {
        "id": "kumv-HPeW8D3",
        "outputId": "2a96b272-ce62-4511-94b5-fa5ee81a71b2",
        "colab": {
          "base_uri": "https://localhost:8080/"
        }
      },
      "source": [
        "# no scale deve ser coloado a média da distribuição: E[t] = 1/lambda\n",
        "# P(2 <= T <= 3) = P(T>=2) - P(T>3)\n",
        "expon.cdf(3,scale=1/2)-expon.cdf(2,scale=1/2) "
      ],
      "execution_count": null,
      "outputs": [
        {
          "output_type": "execute_result",
          "data": {
            "text/plain": [
              "0.015836886712067844"
            ]
          },
          "metadata": {
            "tags": []
          },
          "execution_count": 10
        }
      ]
    },
    {
      "cell_type": "code",
      "metadata": {
        "id": "PnMkhXLLvU6Z",
        "outputId": "265f4ef6-9719-4706-c42f-13eae366aa08",
        "colab": {
          "base_uri": "https://localhost:8080/"
        }
      },
      "source": [
        "# Geração de valores aleatórios e apresentação gráfica\n",
        "import matplotlib.pyplot as plt\n",
        "import seaborn as sns\n",
        "dexpo = (random.exponential(2, size=1000))\n",
        "sns.distplot(dexpo, kde=True)\n",
        "plt.title('Distribuição Exponencial')\n",
        "plt.show()"
      ],
      "execution_count": null,
      "outputs": [
        {
          "output_type": "stream",
          "text": [
            "/usr/local/lib/python3.6/dist-packages/seaborn/distributions.py:2551: FutureWarning: `distplot` is a deprecated function and will be removed in a future version. Please adapt your code to use either `displot` (a figure-level function with similar flexibility) or `histplot` (an axes-level function for histograms).\n",
            "  warnings.warn(msg, FutureWarning)\n"
          ],
          "name": "stderr"
        },
        {
          "output_type": "display_data",
          "data": {
            "image/png": "[encoded data removed]",
            "text/plain": [
              "<Figure size 432x288 with 1 Axes>"
            ]
          },
          "metadata": {
            "tags": [],
            "needs_background": "light"
          }
        }
      ]
    },
    {
      "cell_type": "markdown",
      "metadata": {
        "id": "Yv8H_p314573"
      },
      "source": [
        "## Distribuição Normal"
      ]
    },
    {
      "cell_type": "code",
      "metadata": {
        "id": "KGyzVllskIgQ"
      },
      "source": [
        "\n",
        "# Exemplo: Suponha que o tempo de resposta na execução de um algoritmo é uma variável aleatória com distribuição normal de média 23 segundos e desvio padrão de 4 segundos. Calcule:"
      ],
      "execution_count": null,
      "outputs": []
    },
    {
      "cell_type": "code",
      "metadata": {
        "id": "X-sm3D2e2uTM",
        "outputId": "befd020c-b378-4cbc-eb69-281a13ce7e55",
        "colab": {
          "base_uri": "https://localhost:8080/"
        }
      },
      "source": [
        "# a) A probabilidade de o tempo de resposta ser menor que 22 segundos;\n",
        "# P(x < 22)\n",
        "norm.cdf(22, 23, 4)"
      ],
      "execution_count": null,
      "outputs": [
        {
          "output_type": "execute_result",
          "data": {
            "text/plain": [
              "0.4012936743170763"
            ]
          },
          "metadata": {
            "tags": []
          },
          "execution_count": 9
        }
      ]
    },
    {
      "cell_type": "code",
      "metadata": {
        "id": "YDEYXqus6QNt",
        "outputId": "8615aecb-0373-420a-ce3b-e09ac154e355",
        "colab": {
          "base_uri": "https://localhost:8080/"
        }
      },
      "source": [
        "# b) A probabilidade de o tempo de resposta ficar entre 20 e 30 segundos;\n",
        "norm.cdf(30,23,4)-norm.cdf(20,23,4)"
      ],
      "execution_count": null,
      "outputs": [
        {
          "output_type": "execute_result",
          "data": {
            "text/plain": [
              "0.7333134907593146"
            ]
          },
          "metadata": {
            "tags": []
          },
          "execution_count": 12
        }
      ]
    },
    {
      "cell_type": "code",
      "metadata": {
        "id": "-xtpz2y47KZd",
        "outputId": "0cbee627-1fd0-4e29-a99d-00464050df1b",
        "colab": {
          "base_uri": "https://localhost:8080/"
        }
      },
      "source": [
        "# c) A probabilidade do tempo de resposta ser maior que 21 segundos;\n",
        "1-norm.cdf(21,23,4)"
      ],
      "execution_count": null,
      "outputs": [
        {
          "output_type": "execute_result",
          "data": {
            "text/plain": [
              "0.6914624612740131"
            ]
          },
          "metadata": {
            "tags": []
          },
          "execution_count": 11
        }
      ]
    },
    {
      "cell_type": "code",
      "metadata": {
        "id": "V2A5QCm47UnO",
        "outputId": "c05bcf84-9bfc-4410-f9da-38a769fa22dd",
        "colab": {
          "base_uri": "https://localhost:8080/"
        }
      },
      "source": [
        "# d) A probabilidade do tempo de respostar ficar entre 24 e 26 segundos;\n",
        "norm.cdf(26,23,4)-norm.cdf(24,23,4)"
      ],
      "execution_count": null,
      "outputs": [
        {
          "output_type": "execute_result",
          "data": {
            "text/plain": [
              "0.17466632194020804"
            ]
          },
          "metadata": {
            "tags": []
          },
          "execution_count": 13
        }
      ]
    },
    {
      "cell_type": "code",
      "metadata": {
        "id": "Z1xNEVcE7Xts",
        "outputId": "5a50947b-2633-4b8e-d086-24d773c58d1e",
        "colab": {
          "base_uri": "https://localhost:8080/"
        }
      },
      "source": [
        "# e) Qual deve ser o tempo de resposta mínimo para 10% não completarem os 23 segundos?  \n",
        "norm.ppf(0.10,23,4)"
      ],
      "execution_count": null,
      "outputs": [
        {
          "output_type": "execute_result",
          "data": {
            "text/plain": [
              "17.8737937378216"
            ]
          },
          "metadata": {
            "tags": []
          },
          "execution_count": 14
        }
      ]
    },
    {
      "cell_type": "code",
      "metadata": {
        "id": "xrsydY6x-nTd",
        "outputId": "12d9809f-e2e7-43df-b079-b9a05f167266",
        "colab": {
          "base_uri": "https://localhost:8080/",
          "height": 335
        }
      },
      "source": [
        "# Geração de valores aleatórios e apresentação gráfica\n",
        "import matplotlib.pyplot as plt\n",
        "import seaborn as sns\n",
        "dnormal = (random.normal(23,4, size=1000))\n",
        "sns.distplot(dnormal, kde=True)\n",
        "plt.title('Distribuição Normal')\n",
        "plt.show()\n"
      ],
      "execution_count": null,
      "outputs": [
        {
          "output_type": "stream",
          "text": [
            "/usr/local/lib/python3.6/dist-packages/seaborn/distributions.py:2551: FutureWarning: `distplot` is a deprecated function and will be removed in a future version. Please adapt your code to use either `displot` (a figure-level function with similar flexibility) or `histplot` (an axes-level function for histograms).\n",
            "  warnings.warn(msg, FutureWarning)\n"
          ],
          "name": "stderr"
        },
        {
          "output_type": "display_data",
          "data": {
            "image/png": "[encoded data removed]",
            "text/plain": [
              "<Figure size 432x288 with 1 Axes>"
            ]
          },
          "metadata": {
            "tags": [],
            "needs_background": "light"
          }
        }
      ]
    },
    {
      "cell_type": "code",
      "metadata": {
        "id": "W5o85qxfyoCn",
        "outputId": "86ebfcce-6d6c-4231-cdf5-c5d6a4830756",
        "colab": {
          "base_uri": "https://localhost:8080/",
          "height": 295
        }
      },
      "source": [
        "# Geração de gráfico para verificar se a distribuição é normal 1\n",
        "fig, ax = plt.subplots()\n",
        "stats.probplot(dnormal, fit=True,   plot=ax)\n",
        "plt.show()"
      ],
      "execution_count": null,
      "outputs": [
        {
          "output_type": "display_data",
          "data": {
            "image/png": "[encoded data removed]",
            "text/plain": [
              "<Figure size 432x288 with 1 Axes>"
            ]
          },
          "metadata": {
            "tags": [],
            "needs_background": "light"
          }
        }
      ]
    },
    {
      "cell_type": "code",
      "metadata": {
        "id": "Mwbj-GL31Iff",
        "outputId": "e0f0ea49-f606-406a-9a3b-aaf4e30f972a",
        "colab": {
          "base_uri": "https://localhost:8080/",
          "height": 295
        }
      },
      "source": [
        "# Geração de gráfico para verificar se a distribuição é normal 1\n",
        "fig, ax = plt.subplots()\n",
        "stats.probplot(dexpo, fit=True,   plot=ax)\n",
        "plt.show()"
      ],
      "execution_count": null,
      "outputs": [
        {
          "output_type": "display_data",
          "data": {
            "image/png": "[encoded data removed]",
            "text/plain": [
              "<Figure size 432x288 with 1 Axes>"
            ]
          },
          "metadata": {
            "tags": [],
            "needs_background": "light"
          }
        }
      ]
    },
    {
      "cell_type": "code",
      "metadata": {
        "id": "EZpBq2C0585R",
        "outputId": "5e679985-2b9f-4a92-cb2f-bb63ed373af1",
        "colab": {
          "base_uri": "https://localhost:8080/"
        }
      },
      "source": [
        "# Execução do teste de Shapiro Wilk\n",
        "# Primeiro valor é o resultado da estatística e o segundo argumento é o valor de p.\n",
        "# H0 = Os dados apresentam distribuição normal\n",
        "# H1 = Os dados não apresentam distribuição normal\n",
        "# Se o segundo termo (p-valor) dor menor que 0,05 (5%), rejeita-se a hipótose nula\n",
        "stats.shapiro(dnormal)"
      ],
      "execution_count": null,
      "outputs": [
        {
          "output_type": "execute_result",
          "data": {
            "text/plain": [
              "(0.9984053373336792, 0.4943409860134125)"
            ]
          },
          "metadata": {
            "tags": []
          },
          "execution_count": 23
        }
      ]
    }
  ]
}