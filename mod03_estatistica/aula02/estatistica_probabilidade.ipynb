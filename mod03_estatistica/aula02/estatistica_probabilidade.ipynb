{
  "nbformat": 4,
  "nbformat_minor": 0,
  "metadata": {
    "colab": {
      "name": "estatistica_probabilidade",
      "provenance": [],
      "collapsed_sections": [],
      "include_colab_link": true
    },
    "kernelspec": {
      "name": "python3",
      "display_name": "Python 3"
    }
  },
  "cells": [
    {
      "cell_type": "markdown",
      "metadata": {
        "id": "view-in-github",
        "colab_type": "text"
      },
      "source": [
        "<a href=\"https://colab.research.google.com/github/patricktapajos/pos-ciencia-dados/blob/master/mod03_estatistica/aula02/estatistica_probabilidade.ipynb\" target=\"_parent\"><img src=\"https://colab.research.google.com/assets/colab-badge.svg\" alt=\"Open In Colab\"/></a>"
      ]
    },
    {
      "cell_type": "markdown",
      "metadata": {
        "id": "t5oLQNm_xilh"
      },
      "source": [
        "# Probabilidade"
      ]
    },
    {
      "cell_type": "code",
      "metadata": {
        "id": "ZN1-V9Lrxv5V"
      },
      "source": [
        "from scipy.stats import binom, nbinom, poisson\n",
        "import numpy as np\n",
        "import matplotlib.pyplot as plt\n",
        "import seaborn as sns\n",
        "import statistics as st"
      ],
      "execution_count": null,
      "outputs": []
    },
    {
      "cell_type": "code",
      "metadata": {
        "id": "4zPWSLnSxylL",
        "outputId": "5251cde1-d4e2-40af-cb25-4aa7d69cf5c1",
        "colab": {
          "base_uri": "https://localhost:8080/"
        }
      },
      "source": [
        "# Construção de uma matriz\n",
        "matriz = [\n",
        "    [500,4500,1500,6500],\n",
        "    [30,270,50,350],\n",
        "    [530,4770,1550,6850]\n",
        "]\n",
        "print(matriz)"
      ],
      "execution_count": null,
      "outputs": [
        {
          "output_type": "stream",
          "text": [
            "[[500, 4500, 1500, 6500], [30, 270, 50, 350], [530, 4770, 1550, 6850]]\n"
          ],
          "name": "stdout"
        }
      ]
    },
    {
      "cell_type": "code",
      "metadata": {
        "id": "kkY73EFNx1cR",
        "outputId": "9fa6efb5-73d1-4b2d-b69d-3231180c63f1",
        "colab": {
          "base_uri": "https://localhost:8080/"
        }
      },
      "source": [
        "for i in range(0,3):\n",
        "  print(matriz[i])"
      ],
      "execution_count": null,
      "outputs": [
        {
          "output_type": "stream",
          "text": [
            "[500, 4500, 1500, 6500]\n",
            "[30, 270, 50, 350]\n",
            "[530, 4770, 1550, 6850]\n"
          ],
          "name": "stdout"
        }
      ]
    },
    {
      "cell_type": "code",
      "metadata": {
        "id": "81mPa-YRzaMT",
        "outputId": "16c8622f-f200-4812-8a78-7b0e4bd880e7",
        "colab": {
          "base_uri": "https://localhost:8080/"
        }
      },
      "source": [
        "# Cálculo da probabilidade condicional\n",
        "print(\"P(D|U)=\",matriz[1][2]/matriz[2][2])"
      ],
      "execution_count": null,
      "outputs": [
        {
          "output_type": "stream",
          "text": [
            "P(D|U)= 0.03225806451612903\n"
          ],
          "name": "stdout"
        }
      ]
    },
    {
      "cell_type": "code",
      "metadata": {
        "id": "mRznXtaRzhKN"
      },
      "source": [
        "# Distribuição Binomial\n",
        "# Em uma avaliação de 10 questões, com 4 alternativas cada, qual a probabilidade de um aluno sorteado ao acaso acertar:"
      ],
      "execution_count": null,
      "outputs": []
    },
    {
      "cell_type": "code",
      "metadata": {
        "id": "LTPqwkB42Dn4"
      },
      "source": [
        "# a) Nenhuma questão?\n",
        "print(\"P(x=0):\",binom.pmf(0,10,0.25))"
      ],
      "execution_count": null,
      "outputs": []
    },
    {
      "cell_type": "code",
      "metadata": {
        "id": "BjFp5nA-2cZP"
      },
      "source": [
        "# b) Pelo menos 3 questões?\n",
        "print(\"P(x<=3):\",binom.cdf(3,10,0.25))"
      ],
      "execution_count": null,
      "outputs": []
    },
    {
      "cell_type": "code",
      "metadata": {
        "id": "unyiUhfm2zJY"
      },
      "source": [
        "# c) Mais de 7 questões?\n",
        "print(\"P(x>7):\",1-binom.cdf(7,10,0.25))"
      ],
      "execution_count": null,
      "outputs": []
    },
    {
      "cell_type": "code",
      "metadata": {
        "id": "Ds12uscL7KNW",
        "outputId": "5d7389a4-9dd3-4765-806f-f550198659f3",
        "colab": {
          "base_uri": "https://localhost:8080/"
        }
      },
      "source": [
        "# Geração de dígitos aleatórios com base na distribuição Binomial\n",
        "from numpy import random\n",
        "x = random.binomial(n=10, p=0.5, size=100)\n",
        "print(x)"
      ],
      "execution_count": null,
      "outputs": [
        {
          "output_type": "stream",
          "text": [
            "[4 6 6 5 5 4 5 2 6 7 4 5 5 6 2 3 4 7 7 8 5 4 5 4 6 6 3 4 5 6 5 4 3 4 3 2 2\n",
            " 4 4 2 3 7 7 3 6 4 4 5 3 5 6 4 4 6 4 4 6 3 7 6 4 3 5 3 5 2 5 7 6 5 4 7 6 5\n",
            " 5 6 6 6 3 3 8 5 4 7 3 5 6 5 5 6 4 1 6 5 6 4 5 8 7 6]\n"
          ],
          "name": "stdout"
        }
      ]
    },
    {
      "cell_type": "code",
      "metadata": {
        "id": "cDbPSQ2_78EJ",
        "outputId": "833d510f-1c93-4f74-c7bb-baefb50358ce",
        "colab": {
          "base_uri": "https://localhost:8080/"
        }
      },
      "source": [
        "# Gerar gráfico da distribuição Binomial\n",
        "n = 10\n",
        "p = 0.25\n",
        "k_valores = np.arange(0,10)\n",
        "distbinom = [binom.pmf(k,n,p) for k in k_valores]\n",
        "distbinom\n"
      ],
      "execution_count": null,
      "outputs": [
        {
          "output_type": "execute_result",
          "data": {
            "text/plain": [
              "[0.056313514709472684,\n",
              " 0.18771171569824247,\n",
              " 0.28156757354736334,\n",
              " 0.2502822875976565,\n",
              " 0.14599800109863295,\n",
              " 0.058399200439453194,\n",
              " 0.016222000122070344,\n",
              " 0.003089904785156255,\n",
              " 0.00038623809814453147,\n",
              " 2.8610229492187517e-05]"
            ]
          },
          "metadata": {
            "tags": []
          },
          "execution_count": 6
        }
      ]
    },
    {
      "cell_type": "code",
      "metadata": {
        "id": "-fKKKLdz_OWP",
        "outputId": "3f6860a1-5f10-49ea-aa9d-1e624b87a8cf",
        "colab": {
          "base_uri": "https://localhost:8080/",
          "height": 265
        }
      },
      "source": [
        "plt.bar(k_valores,distbinom)\n",
        "plt.show()"
      ],
      "execution_count": null,
      "outputs": [
        {
          "output_type": "display_data",
          "data": {
            "image/png": "[encoded data removed]",
            "text/plain": [
              "<Figure size 432x288 with 1 Axes>"
            ]
          },
          "metadata": {
            "tags": [],
            "needs_background": "light"
          }
        }
      ]
    },
    {
      "cell_type": "code",
      "metadata": {
        "id": "ZDg5qV334XxP"
      },
      "source": [
        "# Distribuição de Poisson\n",
        "# Admita que o número de consultas à home page de uma determinada Empresa durante um período de tempo obedece a uma distribuição de Poisson e que em média 2"
      ],
      "execution_count": null,
      "outputs": []
    },
    {
      "cell_type": "code",
      "metadata": {
        "id": "knshHu6m5d2G"
      },
      "source": [
        "# a) Qual a probabilidade de que em um determinado dia sejam realizadas exatamentes  três consultas?\n",
        "print(\"P(x=3):\",poisson.pmf(3,2))"
      ],
      "execution_count": null,
      "outputs": []
    },
    {
      "cell_type": "code",
      "metadata": {
        "id": "qahAKReB50cu"
      },
      "source": [
        "# b) Qual a probabildaide de que em um determinado dia ocorram mais de cinco consultas?\n",
        "print(\"P(x=3):\",1-poisson.cdf(5,2))"
      ],
      "execution_count": null,
      "outputs": []
    },
    {
      "cell_type": "code",
      "metadata": {
        "id": "EeG3g3Y16eWj",
        "outputId": "646f32ea-470b-4f2c-b007-20fc3b0bd554",
        "colab": {
          "base_uri": "https://localhost:8080/"
        }
      },
      "source": [
        "# Gerar digitps aleatórios da distribuição Poisson\n",
        "# Poisson\n",
        "from numpy import random\n",
        "\n",
        "x = random.poisson(lam=2, size=10)\n",
        "\n",
        "print(x)"
      ],
      "execution_count": null,
      "outputs": [
        {
          "output_type": "stream",
          "text": [
            "[1 0 1 0 3 1 2 1 3 3]\n"
          ],
          "name": "stdout"
        }
      ]
    },
    {
      "cell_type": "code",
      "metadata": {
        "id": "5e6TUy6I_1dM",
        "outputId": "dbdb2cfb-dbb8-439d-c441-5bed33a89b65",
        "colab": {
          "base_uri": "https://localhost:8080/",
          "height": 318
        }
      },
      "source": [
        "from numpy import random\n",
        "import matplotlib.pyplot as plt\n",
        "import seaborn as sns\n",
        "\n",
        "sns.distplot(random.poisson(lam=2, size=1000), kde=False)\n",
        "\n",
        "plt.show()"
      ],
      "execution_count": null,
      "outputs": [
        {
          "output_type": "stream",
          "text": [
            "/usr/local/lib/python3.6/dist-packages/seaborn/distributions.py:2551: FutureWarning: `distplot` is a deprecated function and will be removed in a future version. Please adapt your code to use either `displot` (a figure-level function with similar flexibility) or `histplot` (an axes-level function for histograms).\n",
            "  warnings.warn(msg, FutureWarning)\n"
          ],
          "name": "stderr"
        },
        {
          "output_type": "display_data",
          "data": {
            "image/png": "[encoded data removed]",
            "text/plain": [
              "<Figure size 432x288 with 1 Axes>"
            ]
          },
          "metadata": {
            "tags": [],
            "needs_background": "light"
          }
        }
      ]
    },
    {
      "cell_type": "code",
      "metadata": {
        "id": "fE52ugWdFZBM",
        "outputId": "e2bd0fe5-57eb-4061-8d74-5ba8168815f3",
        "colab": {
          "base_uri": "https://localhost:8080/"
        }
      },
      "source": [
        "# Questão 5\n",
        "binom.pmf(0, 4, 0.25)"
      ],
      "execution_count": null,
      "outputs": [
        {
          "output_type": "execute_result",
          "data": {
            "text/plain": [
              "0.31640625000000006"
            ]
          },
          "metadata": {
            "tags": []
          },
          "execution_count": 47
        }
      ]
    },
    {
      "cell_type": "code",
      "metadata": {
        "id": "ocWgmLgn_6H8",
        "outputId": "cb382115-eaed-4e6a-abf7-29accb8fa963",
        "colab": {
          "base_uri": "https://localhost:8080/"
        }
      },
      "source": [
        "# Questão 07\n",
        "print(\"P(x=6):\",binom.pmf(6,10,0.7) + binom.pmf(7,10,0.7) + binom.pmf(8,10,0.7) + binom.pmf(9,10,0.7) + binom.pmf(10,10,0.7))"
      ],
      "execution_count": null,
      "outputs": [
        {
          "output_type": "stream",
          "text": [
            "P(x=6): 0.8497316674000002\n"
          ],
          "name": "stdout"
        }
      ]
    },
    {
      "cell_type": "code",
      "metadata": {
        "id": "T-_fP5Qk-LlA",
        "outputId": "eb0de4fa-0d9b-49b3-884d-7302d12d970c",
        "colab": {
          "base_uri": "https://localhost:8080/"
        }
      },
      "source": [
        "# Questão 7 com acumulada\n",
        "1 - binom.cdf(5,10,0.7)"
      ],
      "execution_count": null,
      "outputs": [
        {
          "output_type": "execute_result",
          "data": {
            "text/plain": [
              "0.8497316674"
            ]
          },
          "metadata": {
            "tags": []
          },
          "execution_count": 15
        }
      ]
    },
    {
      "cell_type": "code",
      "metadata": {
        "id": "N5yOeGaL-sc6",
        "outputId": "59aea1fa-d413-4380-f9f2-a871ac30c3d3",
        "colab": {
          "base_uri": "https://localhost:8080/"
        }
      },
      "source": [
        "# Questão 8\n",
        "1 - binom.cdf(4, 20, 0.01)"
      ],
      "execution_count": null,
      "outputs": [
        {
          "output_type": "stream",
          "text": [
            "1.3677986329119207e-06\n"
          ],
          "name": "stdout"
        }
      ]
    },
    {
      "cell_type": "code",
      "metadata": {
        "id": "GNCilG2VACJ0",
        "outputId": "143043fe-7e1b-4546-e258-70fc53febd48",
        "colab": {
          "base_uri": "https://localhost:8080/"
        }
      },
      "source": [
        "# Questão 9\n",
        "print(\"P(0 <= x < 3):\", poisson.cdf(2,3))"
      ],
      "execution_count": null,
      "outputs": [
        {
          "output_type": "stream",
          "text": [
            "P(0 <= x < 3): 0.42319008112684364\n"
          ],
          "name": "stdout"
        }
      ]
    },
    {
      "cell_type": "code",
      "metadata": {
        "id": "y59JQzrMBH_y",
        "outputId": "134e047e-5700-429f-b529-673a1bcac718",
        "colab": {
          "base_uri": "https://localhost:8080/"
        }
      },
      "source": [
        "# Questão 10\n",
        "print(\"P(2 <= x <= 4):\", poisson.pmf(2,1) + poisson.pmf(3,1) + poisson.pmf(4,1))"
      ],
      "execution_count": null,
      "outputs": [
        {
          "output_type": "stream",
          "text": [
            "P(2 <= x <= 4): 0.2605812708297716\n"
          ],
          "name": "stdout"
        }
      ]
    }
  ]
}